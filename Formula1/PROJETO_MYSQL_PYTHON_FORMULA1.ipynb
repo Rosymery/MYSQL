{
 "cells": [
  {
   "cell_type": "code",
   "execution_count": 79,
   "metadata": {},
   "outputs": [],
   "source": [
    "# ATIVIDADE PROJETO INTEGRADOR "
   ]
  },
  {
   "cell_type": "code",
   "execution_count": null,
   "metadata": {},
   "outputs": [],
   "source": [
    "# Imagine-se um(a) promissor(a) cientista de dados júnior de uma empresa de mídia que trabalha com análise de dados da área do esporte. Pois, o arquiteto de dados lhe agradeceu pelo bom serviço \n",
    "# prestado na criação das bases, já que o DBM faltou. Porém, lembrou-se de que não adianta ter tabelas se estas não \n",
    "# possuírem dados, não é mesmo?! Então, pediu que você procurasse uma fonte de dados na internet mesmo e a usasse para \n",
    "# povoar essas tabelas a fim de o pessoal começar a trabalhar. Portanto, acabou sobrando para você realizar tais pesquisas \n",
    "# e depois inserir manualmente os dados na tabela. Lembre-se de que os dados devem ser preenchidos corretamente nas tabelas \n",
    "# para que façam sentido.\n",
    "\n",
    "# Para tanto, observe base da primeira atividade e busque os dados em websites com resultados de campeonatos e corridas \n",
    "# de Fórmula 1! Caso esteja com dificuldades, o seguinte link possui o registro de todos os campeonatos de F1, desde o \n",
    "# primeiro: <https://www.f1-fansite.com/pt/Resultados-f1>.\n"
   ]
  },
  {
   "cell_type": "code",
   "execution_count": null,
   "metadata": {},
   "outputs": [],
   "source": [
    "#     Sua tarefa será, por meio da linguagem SQL:\n",
    "#      1. fazer uso do comando Insert e popular as tabelas.\n",
    "#      2. Criar uma query que selecione apenas pilotos da equipe Ferrari.\n",
    "#      3. Exibir a quantidade de pilotos por ano de nascimento, ordenando-os por este aspecto de forma ascendente – do ano mais antigo ao mais recente.\n",
    "#      4. Exibir o nome do piloto, o seu país de nascimento, nome da equipe, país da equipe, colocação final, nome do circuito e a data da realização da prova na Austrália – lembre-se de utilizar o mesmo DER.\n"
   ]
  },
  {
   "cell_type": "code",
   "execution_count": null,
   "metadata": {},
   "outputs": [],
   "source": [
    "# DELETAR BANCO DE DADOS CASO EXISTA"
   ]
  },
  {
   "cell_type": "code",
   "execution_count": 1,
   "metadata": {},
   "outputs": [
    {
     "ename": "NameError",
     "evalue": "name 'c' is not defined",
     "output_type": "error",
     "traceback": [
      "\u001b[1;31m---------------------------------------------------------------------------\u001b[0m",
      "\u001b[1;31mNameError\u001b[0m                                 Traceback (most recent call last)",
      "\u001b[1;32m<ipython-input-1-9980a72f0171>\u001b[0m in \u001b[0;36m<module>\u001b[1;34m\u001b[0m\n\u001b[0;32m      1\u001b[0m \u001b[1;31m# Deletar database\u001b[0m\u001b[1;33m\u001b[0m\u001b[1;33m\u001b[0m\u001b[1;33m\u001b[0m\u001b[0m\n\u001b[1;32m----> 2\u001b[1;33m \u001b[0mc\u001b[0m\u001b[1;33m.\u001b[0m\u001b[0mexecute\u001b[0m\u001b[1;33m(\u001b[0m\u001b[1;34m\"DROP DATABASE formula1\"\u001b[0m\u001b[1;33m)\u001b[0m\u001b[1;33m\u001b[0m\u001b[1;33m\u001b[0m\u001b[0m\n\u001b[0m",
      "\u001b[1;31mNameError\u001b[0m: name 'c' is not defined"
     ]
    }
   ],
   "source": [
    "# Deletar database\n",
    "c.execute(\"DROP DATABASE formula1\")"
   ]
  },
  {
   "cell_type": "code",
   "execution_count": null,
   "metadata": {},
   "outputs": [],
   "source": [
    "# ENCERRAR COMUNICAÇÃO COM BANCO DE DADOS"
   ]
  },
  {
   "cell_type": "code",
   "execution_count": 292,
   "metadata": {},
   "outputs": [],
   "source": [
    "db.close()"
   ]
  },
  {
   "cell_type": "code",
   "execution_count": null,
   "metadata": {},
   "outputs": [],
   "source": [
    "# CONEXÃO COM O BANCO DE DADOS"
   ]
  },
  {
   "cell_type": "code",
   "execution_count": 2,
   "metadata": {},
   "outputs": [],
   "source": [
    "import mysql.connector"
   ]
  },
  {
   "cell_type": "code",
   "execution_count": 3,
   "metadata": {},
   "outputs": [
    {
     "ename": "ProgrammingError",
     "evalue": "1045 (28000): Access denied for user 'root'@'localhost' (using password: YES)",
     "output_type": "error",
     "traceback": [
      "\u001b[1;31m---------------------------------------------------------------------------\u001b[0m",
      "\u001b[1;31mProgrammingError\u001b[0m                          Traceback (most recent call last)",
      "\u001b[1;32m<ipython-input-3-01118b718876>\u001b[0m in \u001b[0;36m<module>\u001b[1;34m\u001b[0m\n\u001b[0;32m      4\u001b[0m \u001b[0muser\u001b[0m\u001b[1;33m=\u001b[0m \u001b[1;34m\"root\"\u001b[0m\u001b[1;33m,\u001b[0m\u001b[1;33m\u001b[0m\u001b[1;33m\u001b[0m\u001b[0m\n\u001b[0;32m      5\u001b[0m \u001b[0mpasswd\u001b[0m \u001b[1;33m=\u001b[0m \u001b[1;34m\"1234567\"\u001b[0m\u001b[1;33m,\u001b[0m\u001b[1;33m\u001b[0m\u001b[1;33m\u001b[0m\u001b[0m\n\u001b[1;32m----> 6\u001b[1;33m database = \"formula1\")\n\u001b[0m",
      "\u001b[1;32mC:\\ProgramData\\Anaconda3\\lib\\site-packages\\mysql\\connector\\__init__.py\u001b[0m in \u001b[0;36mconnect\u001b[1;34m(*args, **kwargs)\u001b[0m\n\u001b[0;32m    276\u001b[0m     \u001b[1;32mif\u001b[0m \u001b[0mHAVE_CEXT\u001b[0m \u001b[1;32mand\u001b[0m \u001b[1;32mnot\u001b[0m \u001b[0muse_pure\u001b[0m\u001b[1;33m:\u001b[0m\u001b[1;33m\u001b[0m\u001b[1;33m\u001b[0m\u001b[0m\n\u001b[0;32m    277\u001b[0m         \u001b[1;32mreturn\u001b[0m \u001b[0mCMySQLConnection\u001b[0m\u001b[1;33m(\u001b[0m\u001b[1;33m*\u001b[0m\u001b[0margs\u001b[0m\u001b[1;33m,\u001b[0m \u001b[1;33m**\u001b[0m\u001b[0mkwargs\u001b[0m\u001b[1;33m)\u001b[0m\u001b[1;33m\u001b[0m\u001b[1;33m\u001b[0m\u001b[0m\n\u001b[1;32m--> 278\u001b[1;33m     \u001b[1;32mreturn\u001b[0m \u001b[0mMySQLConnection\u001b[0m\u001b[1;33m(\u001b[0m\u001b[1;33m*\u001b[0m\u001b[0margs\u001b[0m\u001b[1;33m,\u001b[0m \u001b[1;33m**\u001b[0m\u001b[0mkwargs\u001b[0m\u001b[1;33m)\u001b[0m\u001b[1;33m\u001b[0m\u001b[1;33m\u001b[0m\u001b[0m\n\u001b[0m\u001b[0;32m    279\u001b[0m \u001b[0mConnect\u001b[0m \u001b[1;33m=\u001b[0m \u001b[0mconnect\u001b[0m  \u001b[1;31m# pylint: disable=C0103\u001b[0m\u001b[1;33m\u001b[0m\u001b[1;33m\u001b[0m\u001b[0m\n\u001b[0;32m    280\u001b[0m \u001b[1;33m\u001b[0m\u001b[0m\n",
      "\u001b[1;32mC:\\ProgramData\\Anaconda3\\lib\\site-packages\\mysql\\connector\\connection.py\u001b[0m in \u001b[0;36m__init__\u001b[1;34m(self, *args, **kwargs)\u001b[0m\n\u001b[0;32m    106\u001b[0m         \u001b[1;32mif\u001b[0m \u001b[0mkwargs\u001b[0m\u001b[1;33m:\u001b[0m\u001b[1;33m\u001b[0m\u001b[1;33m\u001b[0m\u001b[0m\n\u001b[0;32m    107\u001b[0m             \u001b[1;32mtry\u001b[0m\u001b[1;33m:\u001b[0m\u001b[1;33m\u001b[0m\u001b[1;33m\u001b[0m\u001b[0m\n\u001b[1;32m--> 108\u001b[1;33m                 \u001b[0mself\u001b[0m\u001b[1;33m.\u001b[0m\u001b[0mconnect\u001b[0m\u001b[1;33m(\u001b[0m\u001b[1;33m**\u001b[0m\u001b[0mkwargs\u001b[0m\u001b[1;33m)\u001b[0m\u001b[1;33m\u001b[0m\u001b[1;33m\u001b[0m\u001b[0m\n\u001b[0m\u001b[0;32m    109\u001b[0m             \u001b[1;32mexcept\u001b[0m\u001b[1;33m:\u001b[0m\u001b[1;33m\u001b[0m\u001b[1;33m\u001b[0m\u001b[0m\n\u001b[0;32m    110\u001b[0m                 \u001b[1;31m# Tidy-up underlying socket on failure\u001b[0m\u001b[1;33m\u001b[0m\u001b[1;33m\u001b[0m\u001b[1;33m\u001b[0m\u001b[0m\n",
      "\u001b[1;32mC:\\ProgramData\\Anaconda3\\lib\\site-packages\\mysql\\connector\\abstracts.py\u001b[0m in \u001b[0;36mconnect\u001b[1;34m(self, **kwargs)\u001b[0m\n\u001b[0;32m   1001\u001b[0m \u001b[1;33m\u001b[0m\u001b[0m\n\u001b[0;32m   1002\u001b[0m         \u001b[0mself\u001b[0m\u001b[1;33m.\u001b[0m\u001b[0mdisconnect\u001b[0m\u001b[1;33m(\u001b[0m\u001b[1;33m)\u001b[0m\u001b[1;33m\u001b[0m\u001b[1;33m\u001b[0m\u001b[0m\n\u001b[1;32m-> 1003\u001b[1;33m         \u001b[0mself\u001b[0m\u001b[1;33m.\u001b[0m\u001b[0m_open_connection\u001b[0m\u001b[1;33m(\u001b[0m\u001b[1;33m)\u001b[0m\u001b[1;33m\u001b[0m\u001b[1;33m\u001b[0m\u001b[0m\n\u001b[0m\u001b[0;32m   1004\u001b[0m         \u001b[1;31m# Server does not allow to run any other statement different from ALTER\u001b[0m\u001b[1;33m\u001b[0m\u001b[1;33m\u001b[0m\u001b[1;33m\u001b[0m\u001b[0m\n\u001b[0;32m   1005\u001b[0m         \u001b[1;31m# when user's password has been expired.\u001b[0m\u001b[1;33m\u001b[0m\u001b[1;33m\u001b[0m\u001b[1;33m\u001b[0m\u001b[0m\n",
      "\u001b[1;32mC:\\ProgramData\\Anaconda3\\lib\\site-packages\\mysql\\connector\\connection.py\u001b[0m in \u001b[0;36m_open_connection\u001b[1;34m(self)\u001b[0m\n\u001b[0;32m    353\u001b[0m             self._do_auth(self._user, self._password,\n\u001b[0;32m    354\u001b[0m                           \u001b[0mself\u001b[0m\u001b[1;33m.\u001b[0m\u001b[0m_database\u001b[0m\u001b[1;33m,\u001b[0m \u001b[0mself\u001b[0m\u001b[1;33m.\u001b[0m\u001b[0m_client_flags\u001b[0m\u001b[1;33m,\u001b[0m \u001b[0mself\u001b[0m\u001b[1;33m.\u001b[0m\u001b[0m_charset_id\u001b[0m\u001b[1;33m,\u001b[0m\u001b[1;33m\u001b[0m\u001b[1;33m\u001b[0m\u001b[0m\n\u001b[1;32m--> 355\u001b[1;33m                           self._ssl, self._conn_attrs)\n\u001b[0m\u001b[0;32m    356\u001b[0m             \u001b[0mself\u001b[0m\u001b[1;33m.\u001b[0m\u001b[0mset_converter_class\u001b[0m\u001b[1;33m(\u001b[0m\u001b[0mself\u001b[0m\u001b[1;33m.\u001b[0m\u001b[0m_converter_class\u001b[0m\u001b[1;33m)\u001b[0m\u001b[1;33m\u001b[0m\u001b[1;33m\u001b[0m\u001b[0m\n\u001b[0;32m    357\u001b[0m             \u001b[1;32mif\u001b[0m \u001b[0mself\u001b[0m\u001b[1;33m.\u001b[0m\u001b[0m_client_flags\u001b[0m \u001b[1;33m&\u001b[0m \u001b[0mClientFlag\u001b[0m\u001b[1;33m.\u001b[0m\u001b[0mCOMPRESS\u001b[0m\u001b[1;33m:\u001b[0m\u001b[1;33m\u001b[0m\u001b[1;33m\u001b[0m\u001b[0m\n",
      "\u001b[1;32mC:\\ProgramData\\Anaconda3\\lib\\site-packages\\mysql\\connector\\connection.py\u001b[0m in \u001b[0;36m_do_auth\u001b[1;34m(self, username, password, database, client_flags, charset, ssl_options, conn_attrs)\u001b[0m\n\u001b[0;32m    218\u001b[0m             conn_attrs=conn_attrs)\n\u001b[0;32m    219\u001b[0m         \u001b[0mself\u001b[0m\u001b[1;33m.\u001b[0m\u001b[0m_socket\u001b[0m\u001b[1;33m.\u001b[0m\u001b[0msend\u001b[0m\u001b[1;33m(\u001b[0m\u001b[0mpacket\u001b[0m\u001b[1;33m)\u001b[0m\u001b[1;33m\u001b[0m\u001b[1;33m\u001b[0m\u001b[0m\n\u001b[1;32m--> 220\u001b[1;33m         \u001b[0mself\u001b[0m\u001b[1;33m.\u001b[0m\u001b[0m_auth_switch_request\u001b[0m\u001b[1;33m(\u001b[0m\u001b[0musername\u001b[0m\u001b[1;33m,\u001b[0m \u001b[0mpassword\u001b[0m\u001b[1;33m)\u001b[0m\u001b[1;33m\u001b[0m\u001b[1;33m\u001b[0m\u001b[0m\n\u001b[0m\u001b[0;32m    221\u001b[0m \u001b[1;33m\u001b[0m\u001b[0m\n\u001b[0;32m    222\u001b[0m         \u001b[1;32mif\u001b[0m \u001b[1;32mnot\u001b[0m \u001b[1;33m(\u001b[0m\u001b[0mclient_flags\u001b[0m \u001b[1;33m&\u001b[0m \u001b[0mClientFlag\u001b[0m\u001b[1;33m.\u001b[0m\u001b[0mCONNECT_WITH_DB\u001b[0m\u001b[1;33m)\u001b[0m \u001b[1;32mand\u001b[0m \u001b[0mdatabase\u001b[0m\u001b[1;33m:\u001b[0m\u001b[1;33m\u001b[0m\u001b[1;33m\u001b[0m\u001b[0m\n",
      "\u001b[1;32mC:\\ProgramData\\Anaconda3\\lib\\site-packages\\mysql\\connector\\connection.py\u001b[0m in \u001b[0;36m_auth_switch_request\u001b[1;34m(self, username, password)\u001b[0m\n\u001b[0;32m    317\u001b[0m             \u001b[1;32mreturn\u001b[0m \u001b[0mself\u001b[0m\u001b[1;33m.\u001b[0m\u001b[0m_handle_ok\u001b[0m\u001b[1;33m(\u001b[0m\u001b[0mpacket\u001b[0m\u001b[1;33m)\u001b[0m\u001b[1;33m\u001b[0m\u001b[1;33m\u001b[0m\u001b[0m\n\u001b[0;32m    318\u001b[0m         \u001b[1;32melif\u001b[0m \u001b[0mpacket\u001b[0m\u001b[1;33m[\u001b[0m\u001b[1;36m4\u001b[0m\u001b[1;33m]\u001b[0m \u001b[1;33m==\u001b[0m \u001b[1;36m255\u001b[0m\u001b[1;33m:\u001b[0m\u001b[1;33m\u001b[0m\u001b[1;33m\u001b[0m\u001b[0m\n\u001b[1;32m--> 319\u001b[1;33m             \u001b[1;32mraise\u001b[0m \u001b[0merrors\u001b[0m\u001b[1;33m.\u001b[0m\u001b[0mget_exception\u001b[0m\u001b[1;33m(\u001b[0m\u001b[0mpacket\u001b[0m\u001b[1;33m)\u001b[0m\u001b[1;33m\u001b[0m\u001b[1;33m\u001b[0m\u001b[0m\n\u001b[0m\u001b[0;32m    320\u001b[0m         \u001b[1;32mreturn\u001b[0m \u001b[1;32mNone\u001b[0m\u001b[1;33m\u001b[0m\u001b[1;33m\u001b[0m\u001b[0m\n\u001b[0;32m    321\u001b[0m \u001b[1;33m\u001b[0m\u001b[0m\n",
      "\u001b[1;31mProgrammingError\u001b[0m: 1045 (28000): Access denied for user 'root'@'localhost' (using password: YES)"
     ]
    }
   ],
   "source": [
    "# CDatabase connection\n",
    "db = mysql.connector.connect(\n",
    "host =\"localhost\",\n",
    "user= \"root\",\n",
    "passwd = \"1234567\",\n",
    "database = \"formula1\")"
   ]
  },
  {
   "cell_type": "code",
   "execution_count": 82,
   "metadata": {},
   "outputs": [],
   "source": [
    "# Cursor linking to DB\n",
    "c = db.cursor()"
   ]
  },
  {
   "cell_type": "code",
   "execution_count": 83,
   "metadata": {},
   "outputs": [],
   "source": [
    "# Open DAtabase\n",
    "c.execute(\"USE formula1\")\n",
    "db.commit()"
   ]
  },
  {
   "cell_type": "code",
   "execution_count": null,
   "metadata": {},
   "outputs": [],
   "source": [
    "# IMPORTAÇÃO DE TABELAS EXCEL PARA CRIAÇÃO DE DATAFRAMES NO PANDAS"
   ]
  },
  {
   "cell_type": "code",
   "execution_count": 84,
   "metadata": {},
   "outputs": [],
   "source": [
    "import pandas as pd"
   ]
  },
  {
   "cell_type": "code",
   "execution_count": 85,
   "metadata": {},
   "outputs": [],
   "source": [
    "# Criaçao tabela paises"
   ]
  },
  {
   "cell_type": "code",
   "execution_count": 86,
   "metadata": {},
   "outputs": [],
   "source": [
    "df = pd.read_excel('H:\\\\formula1\\\\tb_paises.xlsx')"
   ]
  },
  {
   "cell_type": "code",
   "execution_count": 87,
   "metadata": {},
   "outputs": [
    {
     "data": {
      "text/html": [
       "<div>\n",
       "<style scoped>\n",
       "    .dataframe tbody tr th:only-of-type {\n",
       "        vertical-align: middle;\n",
       "    }\n",
       "\n",
       "    .dataframe tbody tr th {\n",
       "        vertical-align: top;\n",
       "    }\n",
       "\n",
       "    .dataframe thead th {\n",
       "        text-align: right;\n",
       "    }\n",
       "</style>\n",
       "<table border=\"1\" class=\"dataframe\">\n",
       "  <thead>\n",
       "    <tr style=\"text-align: right;\">\n",
       "      <th></th>\n",
       "      <th>PAIS</th>\n",
       "      <th>POPULACAO</th>\n",
       "    </tr>\n",
       "  </thead>\n",
       "  <tbody>\n",
       "    <tr>\n",
       "      <th>0</th>\n",
       "      <td>AUSTRÁLIA</td>\n",
       "      <td>25499884</td>\n",
       "    </tr>\n",
       "    <tr>\n",
       "      <th>1</th>\n",
       "      <td>BAREIN</td>\n",
       "      <td>1701575</td>\n",
       "    </tr>\n",
       "    <tr>\n",
       "      <th>2</th>\n",
       "      <td>CHINA</td>\n",
       "      <td>1439323776</td>\n",
       "    </tr>\n",
       "    <tr>\n",
       "      <th>3</th>\n",
       "      <td>AZERBAIJÃO</td>\n",
       "      <td>10139177</td>\n",
       "    </tr>\n",
       "    <tr>\n",
       "      <th>4</th>\n",
       "      <td>ESPANHA</td>\n",
       "      <td>46754778</td>\n",
       "    </tr>\n",
       "    <tr>\n",
       "      <th>5</th>\n",
       "      <td>MÔNACO</td>\n",
       "      <td>39242</td>\n",
       "    </tr>\n",
       "    <tr>\n",
       "      <th>6</th>\n",
       "      <td>CANADÁ</td>\n",
       "      <td>37742154</td>\n",
       "    </tr>\n",
       "    <tr>\n",
       "      <th>7</th>\n",
       "      <td>FRANÇA</td>\n",
       "      <td>65273511</td>\n",
       "    </tr>\n",
       "    <tr>\n",
       "      <th>8</th>\n",
       "      <td>ÁUSTRIA</td>\n",
       "      <td>9006398</td>\n",
       "    </tr>\n",
       "    <tr>\n",
       "      <th>9</th>\n",
       "      <td>INGLATERRA</td>\n",
       "      <td>67886011</td>\n",
       "    </tr>\n",
       "    <tr>\n",
       "      <th>10</th>\n",
       "      <td>ALEMANHA</td>\n",
       "      <td>83783942</td>\n",
       "    </tr>\n",
       "    <tr>\n",
       "      <th>11</th>\n",
       "      <td>HUNGRIA</td>\n",
       "      <td>9660351</td>\n",
       "    </tr>\n",
       "    <tr>\n",
       "      <th>12</th>\n",
       "      <td>BÉLGICA</td>\n",
       "      <td>11589623</td>\n",
       "    </tr>\n",
       "    <tr>\n",
       "      <th>13</th>\n",
       "      <td>ITÁLIA</td>\n",
       "      <td>60461826</td>\n",
       "    </tr>\n",
       "    <tr>\n",
       "      <th>14</th>\n",
       "      <td>SINGAPURA</td>\n",
       "      <td>5850342</td>\n",
       "    </tr>\n",
       "    <tr>\n",
       "      <th>15</th>\n",
       "      <td>RÚSSIA</td>\n",
       "      <td>145934462</td>\n",
       "    </tr>\n",
       "    <tr>\n",
       "      <th>16</th>\n",
       "      <td>JAPÃO</td>\n",
       "      <td>126476461</td>\n",
       "    </tr>\n",
       "    <tr>\n",
       "      <th>17</th>\n",
       "      <td>MÉXICO</td>\n",
       "      <td>128932753</td>\n",
       "    </tr>\n",
       "    <tr>\n",
       "      <th>18</th>\n",
       "      <td>ESTADOS UNIDOS</td>\n",
       "      <td>331002651</td>\n",
       "    </tr>\n",
       "    <tr>\n",
       "      <th>19</th>\n",
       "      <td>BRASIL</td>\n",
       "      <td>211756692</td>\n",
       "    </tr>\n",
       "    <tr>\n",
       "      <th>20</th>\n",
       "      <td>ABU DHABI</td>\n",
       "      <td>1450000</td>\n",
       "    </tr>\n",
       "    <tr>\n",
       "      <th>21</th>\n",
       "      <td>FINLANDIA</td>\n",
       "      <td>5540720</td>\n",
       "    </tr>\n",
       "    <tr>\n",
       "      <th>22</th>\n",
       "      <td>HOLANDA</td>\n",
       "      <td>17134872</td>\n",
       "    </tr>\n",
       "    <tr>\n",
       "      <th>23</th>\n",
       "      <td>ESPANHA</td>\n",
       "      <td>46754778</td>\n",
       "    </tr>\n",
       "    <tr>\n",
       "      <th>24</th>\n",
       "      <td>TAILANDIA</td>\n",
       "      <td>69799978</td>\n",
       "    </tr>\n",
       "    <tr>\n",
       "      <th>25</th>\n",
       "      <td>AUSTRALIA</td>\n",
       "      <td>25499884</td>\n",
       "    </tr>\n",
       "    <tr>\n",
       "      <th>26</th>\n",
       "      <td>DINAMARCA</td>\n",
       "      <td>5792202</td>\n",
       "    </tr>\n",
       "    <tr>\n",
       "      <th>27</th>\n",
       "      <td>POLONIA</td>\n",
       "      <td>37846611</td>\n",
       "    </tr>\n",
       "  </tbody>\n",
       "</table>\n",
       "</div>"
      ],
      "text/plain": [
       "              PAIS  POPULACAO \n",
       "0        AUSTRÁLIA    25499884\n",
       "1           BAREIN     1701575\n",
       "2            CHINA  1439323776\n",
       "3       AZERBAIJÃO    10139177\n",
       "4          ESPANHA    46754778\n",
       "5           MÔNACO       39242\n",
       "6           CANADÁ    37742154\n",
       "7           FRANÇA    65273511\n",
       "8          ÁUSTRIA     9006398\n",
       "9       INGLATERRA    67886011\n",
       "10        ALEMANHA    83783942\n",
       "11         HUNGRIA     9660351\n",
       "12         BÉLGICA    11589623\n",
       "13          ITÁLIA    60461826\n",
       "14       SINGAPURA     5850342\n",
       "15          RÚSSIA   145934462\n",
       "16           JAPÃO   126476461\n",
       "17          MÉXICO   128932753\n",
       "18  ESTADOS UNIDOS   331002651\n",
       "19          BRASIL   211756692\n",
       "20       ABU DHABI     1450000\n",
       "21       FINLANDIA     5540720\n",
       "22         HOLANDA    17134872\n",
       "23         ESPANHA    46754778\n",
       "24       TAILANDIA    69799978\n",
       "25       AUSTRALIA    25499884\n",
       "26       DINAMARCA     5792202\n",
       "27         POLONIA    37846611"
      ]
     },
     "execution_count": 87,
     "metadata": {},
     "output_type": "execute_result"
    }
   ],
   "source": [
    "df"
   ]
  },
  {
   "cell_type": "code",
   "execution_count": 88,
   "metadata": {},
   "outputs": [
    {
     "data": {
      "text/plain": [
       "Index(['PAIS', 'POPULACAO '], dtype='object')"
      ]
     },
     "execution_count": 88,
     "metadata": {},
     "output_type": "execute_result"
    }
   ],
   "source": [
    "df.columns"
   ]
  },
  {
   "cell_type": "code",
   "execution_count": 89,
   "metadata": {},
   "outputs": [],
   "source": [
    "dados = df.values.tolist()"
   ]
  },
  {
   "cell_type": "code",
   "execution_count": 90,
   "metadata": {},
   "outputs": [
    {
     "data": {
      "text/plain": [
       "[['AUSTRÁLIA', 25499884],\n",
       " ['BAREIN', 1701575],\n",
       " ['CHINA', 1439323776],\n",
       " ['AZERBAIJÃO', 10139177],\n",
       " ['ESPANHA', 46754778],\n",
       " ['MÔNACO', 39242],\n",
       " ['CANADÁ', 37742154],\n",
       " ['FRANÇA', 65273511],\n",
       " ['ÁUSTRIA', 9006398],\n",
       " ['INGLATERRA', 67886011],\n",
       " ['ALEMANHA', 83783942],\n",
       " ['HUNGRIA', 9660351],\n",
       " ['BÉLGICA', 11589623],\n",
       " ['ITÁLIA', 60461826],\n",
       " ['SINGAPURA', 5850342],\n",
       " ['RÚSSIA', 145934462],\n",
       " ['JAPÃO', 126476461],\n",
       " ['MÉXICO', 128932753],\n",
       " ['ESTADOS UNIDOS', 331002651],\n",
       " ['BRASIL', 211756692],\n",
       " ['ABU DHABI', 1450000],\n",
       " ['FINLANDIA', 5540720],\n",
       " ['HOLANDA', 17134872],\n",
       " ['ESPANHA', 46754778],\n",
       " ['TAILANDIA', 69799978],\n",
       " ['AUSTRALIA', 25499884],\n",
       " ['DINAMARCA', 5792202],\n",
       " ['POLONIA', 37846611]]"
      ]
     },
     "execution_count": 90,
     "metadata": {},
     "output_type": "execute_result"
    }
   ],
   "source": [
    "dados"
   ]
  },
  {
   "cell_type": "code",
   "execution_count": 92,
   "metadata": {},
   "outputs": [
    {
     "name": "stdout",
     "output_type": "stream",
     "text": [
      "('ID_PAIS', b'tinyint', 'NO', 'PRI', None, 'auto_increment')\n",
      "('NM_PAIS', b'varchar(25)', 'NO', '', None, '')\n",
      "('NR_POPULACAO', b'int', 'NO', '', None, '')\n"
     ]
    }
   ],
   "source": [
    "c = db.cursor()\n",
    "c.execute(\"DESCRIBE tb_pais\")\n",
    "\n",
    "for x in c:\n",
    "    print(x)"
   ]
  },
  {
   "cell_type": "code",
   "execution_count": 93,
   "metadata": {},
   "outputs": [],
   "source": [
    "# Teste de inserção de dados\n",
    "# mycursor = db.cursor()\n",
    "# mycursor.execute(\"INSERT INTO tb_pais (NM_PAIS, NR_POPULACAO) VALUES (%s,%s)\", ('AUSTRÁLIA', 25499884))\n",
    "# db.commit()"
   ]
  },
  {
   "cell_type": "code",
   "execution_count": 94,
   "metadata": {},
   "outputs": [],
   "source": [
    "sql = \"INSERT INTO tb_pais (NM_PAIS, NR_POPULACAO) VALUES (%s,%s)\""
   ]
  },
  {
   "cell_type": "code",
   "execution_count": 95,
   "metadata": {},
   "outputs": [],
   "source": [
    "c.executemany(sql,dados)\n",
    "db.commit()"
   ]
  },
  {
   "cell_type": "code",
   "execution_count": 96,
   "metadata": {},
   "outputs": [
    {
     "name": "stdout",
     "output_type": "stream",
     "text": [
      "(1, 'AUSTRÁLIA', 25499884)\n",
      "(2, 'BAREIN', 1701575)\n",
      "(3, 'CHINA', 1439323776)\n",
      "(4, 'AZERBAIJÃO', 10139177)\n",
      "(5, 'ESPANHA', 46754778)\n",
      "(6, 'MÔNACO', 39242)\n",
      "(7, 'CANADÁ', 37742154)\n",
      "(8, 'FRANÇA', 65273511)\n",
      "(9, 'ÁUSTRIA', 9006398)\n",
      "(10, 'INGLATERRA', 67886011)\n",
      "(11, 'ALEMANHA', 83783942)\n",
      "(12, 'HUNGRIA', 9660351)\n",
      "(13, 'BÉLGICA', 11589623)\n",
      "(14, 'ITÁLIA', 60461826)\n",
      "(15, 'SINGAPURA', 5850342)\n",
      "(16, 'RÚSSIA', 145934462)\n",
      "(17, 'JAPÃO', 126476461)\n",
      "(18, 'MÉXICO', 128932753)\n",
      "(19, 'ESTADOS UNIDOS', 331002651)\n",
      "(20, 'BRASIL', 211756692)\n",
      "(21, 'ABU DHABI', 1450000)\n",
      "(22, 'FINLANDIA', 5540720)\n",
      "(23, 'HOLANDA', 17134872)\n",
      "(24, 'ESPANHA', 46754778)\n",
      "(25, 'TAILANDIA', 69799978)\n",
      "(26, 'AUSTRALIA', 25499884)\n",
      "(27, 'DINAMARCA', 5792202)\n",
      "(28, 'POLONIA', 37846611)\n"
     ]
    }
   ],
   "source": [
    "c.execute(\"SELECT * FROM tb_pais\")\n",
    "\n",
    "for x in c:\n",
    "    print(x)"
   ]
  },
  {
   "cell_type": "code",
   "execution_count": 97,
   "metadata": {},
   "outputs": [],
   "source": [
    "# Apagar dados de tabela\n",
    "# c.execute(\"TRUNCATE TABLE  tb_pais\")"
   ]
  },
  {
   "cell_type": "code",
   "execution_count": 98,
   "metadata": {},
   "outputs": [],
   "source": [
    "# Deletar database\n",
    "# c.execute(\"DROP DATABASE formula1\")"
   ]
  },
  {
   "cell_type": "code",
   "execution_count": 99,
   "metadata": {},
   "outputs": [],
   "source": [
    "# Criaçao tabela circuitos"
   ]
  },
  {
   "cell_type": "code",
   "execution_count": 100,
   "metadata": {},
   "outputs": [],
   "source": [
    "df1 = pd.read_excel('H:\\\\formula1\\\\tb_circuitos.xlsx')"
   ]
  },
  {
   "cell_type": "code",
   "execution_count": 101,
   "metadata": {},
   "outputs": [
    {
     "data": {
      "text/html": [
       "<div>\n",
       "<style scoped>\n",
       "    .dataframe tbody tr th:only-of-type {\n",
       "        vertical-align: middle;\n",
       "    }\n",
       "\n",
       "    .dataframe tbody tr th {\n",
       "        vertical-align: top;\n",
       "    }\n",
       "\n",
       "    .dataframe thead th {\n",
       "        text-align: right;\n",
       "    }\n",
       "</style>\n",
       "<table border=\"1\" class=\"dataframe\">\n",
       "  <thead>\n",
       "    <tr style=\"text-align: right;\">\n",
       "      <th></th>\n",
       "      <th>CIRCUITO</th>\n",
       "      <th>EXTENSAO</th>\n",
       "      <th>ID_PAIS</th>\n",
       "    </tr>\n",
       "  </thead>\n",
       "  <tbody>\n",
       "    <tr>\n",
       "      <th>0</th>\n",
       "      <td>MELBOURNE</td>\n",
       "      <td>5303</td>\n",
       "      <td>1</td>\n",
       "    </tr>\n",
       "    <tr>\n",
       "      <th>1</th>\n",
       "      <td>SAKHIR</td>\n",
       "      <td>5412</td>\n",
       "      <td>2</td>\n",
       "    </tr>\n",
       "    <tr>\n",
       "      <th>2</th>\n",
       "      <td>XANGAI</td>\n",
       "      <td>5451</td>\n",
       "      <td>3</td>\n",
       "    </tr>\n",
       "    <tr>\n",
       "      <th>3</th>\n",
       "      <td>BAKU</td>\n",
       "      <td>6003</td>\n",
       "      <td>4</td>\n",
       "    </tr>\n",
       "    <tr>\n",
       "      <th>4</th>\n",
       "      <td>BARCELONA</td>\n",
       "      <td>4655</td>\n",
       "      <td>5</td>\n",
       "    </tr>\n",
       "    <tr>\n",
       "      <th>5</th>\n",
       "      <td>MONTE CARLO</td>\n",
       "      <td>3337</td>\n",
       "      <td>6</td>\n",
       "    </tr>\n",
       "    <tr>\n",
       "      <th>6</th>\n",
       "      <td>MONTREAL</td>\n",
       "      <td>4361</td>\n",
       "      <td>7</td>\n",
       "    </tr>\n",
       "    <tr>\n",
       "      <th>7</th>\n",
       "      <td>PAUL RICARD</td>\n",
       "      <td>5842</td>\n",
       "      <td>8</td>\n",
       "    </tr>\n",
       "    <tr>\n",
       "      <th>8</th>\n",
       "      <td>SPIELBERG</td>\n",
       "      <td>4318</td>\n",
       "      <td>9</td>\n",
       "    </tr>\n",
       "    <tr>\n",
       "      <th>9</th>\n",
       "      <td>SILVERSTONE</td>\n",
       "      <td>5891</td>\n",
       "      <td>10</td>\n",
       "    </tr>\n",
       "    <tr>\n",
       "      <th>10</th>\n",
       "      <td>HOCKENHEIM</td>\n",
       "      <td>4574</td>\n",
       "      <td>11</td>\n",
       "    </tr>\n",
       "    <tr>\n",
       "      <th>11</th>\n",
       "      <td>HUNGARORING</td>\n",
       "      <td>4381</td>\n",
       "      <td>12</td>\n",
       "    </tr>\n",
       "    <tr>\n",
       "      <th>12</th>\n",
       "      <td>SPA-FRANCORCHAMPS</td>\n",
       "      <td>7004</td>\n",
       "      <td>13</td>\n",
       "    </tr>\n",
       "    <tr>\n",
       "      <th>13</th>\n",
       "      <td>MONZA</td>\n",
       "      <td>5793</td>\n",
       "      <td>14</td>\n",
       "    </tr>\n",
       "    <tr>\n",
       "      <th>14</th>\n",
       "      <td>MARINA BAY</td>\n",
       "      <td>5063</td>\n",
       "      <td>15</td>\n",
       "    </tr>\n",
       "    <tr>\n",
       "      <th>15</th>\n",
       "      <td>SOCHI</td>\n",
       "      <td>5848</td>\n",
       "      <td>16</td>\n",
       "    </tr>\n",
       "    <tr>\n",
       "      <th>16</th>\n",
       "      <td>SUZUKA</td>\n",
       "      <td>5807</td>\n",
       "      <td>17</td>\n",
       "    </tr>\n",
       "    <tr>\n",
       "      <th>17</th>\n",
       "      <td>HERMANOS RODRIGUEZ</td>\n",
       "      <td>4304</td>\n",
       "      <td>18</td>\n",
       "    </tr>\n",
       "    <tr>\n",
       "      <th>18</th>\n",
       "      <td>AUSTIN</td>\n",
       "      <td>5513</td>\n",
       "      <td>19</td>\n",
       "    </tr>\n",
       "    <tr>\n",
       "      <th>19</th>\n",
       "      <td>INTERLAGOS</td>\n",
       "      <td>4309</td>\n",
       "      <td>20</td>\n",
       "    </tr>\n",
       "    <tr>\n",
       "      <th>20</th>\n",
       "      <td>YAS MARINA</td>\n",
       "      <td>5554</td>\n",
       "      <td>21</td>\n",
       "    </tr>\n",
       "  </tbody>\n",
       "</table>\n",
       "</div>"
      ],
      "text/plain": [
       "              CIRCUITO  EXTENSAO  ID_PAIS\n",
       "0            MELBOURNE      5303        1\n",
       "1               SAKHIR      5412        2\n",
       "2               XANGAI      5451        3\n",
       "3                 BAKU      6003        4\n",
       "4            BARCELONA      4655        5\n",
       "5          MONTE CARLO      3337        6\n",
       "6             MONTREAL      4361        7\n",
       "7          PAUL RICARD      5842        8\n",
       "8            SPIELBERG      4318        9\n",
       "9          SILVERSTONE      5891       10\n",
       "10          HOCKENHEIM      4574       11\n",
       "11         HUNGARORING      4381       12\n",
       "12   SPA-FRANCORCHAMPS      7004       13\n",
       "13               MONZA      5793       14\n",
       "14          MARINA BAY      5063       15\n",
       "15               SOCHI      5848       16\n",
       "16              SUZUKA      5807       17\n",
       "17  HERMANOS RODRIGUEZ      4304       18\n",
       "18              AUSTIN      5513       19\n",
       "19          INTERLAGOS      4309       20\n",
       "20          YAS MARINA      5554       21"
      ]
     },
     "execution_count": 101,
     "metadata": {},
     "output_type": "execute_result"
    }
   ],
   "source": [
    "df1"
   ]
  },
  {
   "cell_type": "code",
   "execution_count": 102,
   "metadata": {},
   "outputs": [],
   "source": [
    "dados2 = df1.values.tolist()"
   ]
  },
  {
   "cell_type": "code",
   "execution_count": 103,
   "metadata": {},
   "outputs": [
    {
     "data": {
      "text/plain": [
       "[['MELBOURNE', 5303, 1],\n",
       " ['SAKHIR', 5412, 2],\n",
       " ['XANGAI', 5451, 3],\n",
       " ['BAKU', 6003, 4],\n",
       " ['BARCELONA', 4655, 5],\n",
       " ['MONTE CARLO', 3337, 6],\n",
       " ['MONTREAL', 4361, 7],\n",
       " ['PAUL RICARD', 5842, 8],\n",
       " ['SPIELBERG', 4318, 9],\n",
       " ['SILVERSTONE', 5891, 10],\n",
       " ['HOCKENHEIM', 4574, 11],\n",
       " ['HUNGARORING', 4381, 12],\n",
       " ['SPA-FRANCORCHAMPS', 7004, 13],\n",
       " ['MONZA', 5793, 14],\n",
       " ['MARINA BAY', 5063, 15],\n",
       " ['SOCHI', 5848, 16],\n",
       " ['SUZUKA', 5807, 17],\n",
       " ['HERMANOS RODRIGUEZ', 4304, 18],\n",
       " ['AUSTIN', 5513, 19],\n",
       " ['INTERLAGOS', 4309, 20],\n",
       " ['YAS MARINA', 5554, 21]]"
      ]
     },
     "execution_count": 103,
     "metadata": {},
     "output_type": "execute_result"
    }
   ],
   "source": [
    "dados2"
   ]
  },
  {
   "cell_type": "code",
   "execution_count": 104,
   "metadata": {},
   "outputs": [
    {
     "name": "stdout",
     "output_type": "stream",
     "text": [
      "('ID_CIRCUITO', b'tinyint', 'NO', 'PRI', None, 'auto_increment')\n",
      "('NM_CIRCUITO', b'varchar(25)', 'NO', '', None, '')\n",
      "('NR_EXTENSAO', b'int', 'NO', '', None, '')\n",
      "('ID_PAIS', b'tinyint', 'NO', 'MUL', None, '')\n"
     ]
    }
   ],
   "source": [
    "c = db.cursor()\n",
    "c.execute(\"DESCRIBE tb_circuito\")\n",
    "\n",
    "for x in c:\n",
    "    print(x)"
   ]
  },
  {
   "cell_type": "code",
   "execution_count": 105,
   "metadata": {},
   "outputs": [],
   "source": [
    "sqla = \"INSERT INTO tb_circuito (NM_CIRCUITO, NR_EXTENSAO, ID_PAIS) VALUES (%s,%s,%s)\""
   ]
  },
  {
   "cell_type": "code",
   "execution_count": 106,
   "metadata": {},
   "outputs": [],
   "source": [
    "c.executemany(sqla,dados2)\n",
    "db.commit()"
   ]
  },
  {
   "cell_type": "code",
   "execution_count": 107,
   "metadata": {},
   "outputs": [],
   "source": [
    "# Teste de inserção de dados\n",
    "# c.execute(\"INSERT INTO circuito (NM_CIRCUITO, NR_EXTENSAO) VALUES (%s,%s)\", ('AUSTRÁLIA', 25499884))\n",
    "# db.commit()"
   ]
  },
  {
   "cell_type": "code",
   "execution_count": 108,
   "metadata": {},
   "outputs": [
    {
     "name": "stdout",
     "output_type": "stream",
     "text": [
      "(1, 'MELBOURNE', 5303, 1)\n",
      "(2, 'SAKHIR', 5412, 2)\n",
      "(3, 'XANGAI', 5451, 3)\n",
      "(4, 'BAKU', 6003, 4)\n",
      "(5, 'BARCELONA', 4655, 5)\n",
      "(6, 'MONTE CARLO', 3337, 6)\n",
      "(7, 'MONTREAL', 4361, 7)\n",
      "(8, 'PAUL RICARD', 5842, 8)\n",
      "(9, 'SPIELBERG', 4318, 9)\n",
      "(10, 'SILVERSTONE', 5891, 10)\n",
      "(11, 'HOCKENHEIM', 4574, 11)\n",
      "(12, 'HUNGARORING', 4381, 12)\n",
      "(13, 'SPA-FRANCORCHAMPS', 7004, 13)\n",
      "(14, 'MONZA', 5793, 14)\n",
      "(15, 'MARINA BAY', 5063, 15)\n",
      "(16, 'SOCHI', 5848, 16)\n",
      "(17, 'SUZUKA', 5807, 17)\n",
      "(18, 'HERMANOS RODRIGUEZ', 4304, 18)\n",
      "(19, 'AUSTIN', 5513, 19)\n",
      "(20, 'INTERLAGOS', 4309, 20)\n",
      "(21, 'YAS MARINA', 5554, 21)\n"
     ]
    }
   ],
   "source": [
    "c.execute(\"SELECT * FROM tb_circuito\")\n",
    "\n",
    "for x in c:\n",
    "    print(x)"
   ]
  },
  {
   "cell_type": "code",
   "execution_count": 109,
   "metadata": {},
   "outputs": [],
   "source": [
    "# Criaçao tabela equipes"
   ]
  },
  {
   "cell_type": "code",
   "execution_count": 110,
   "metadata": {},
   "outputs": [],
   "source": [
    "df2 = pd.read_excel('H:\\\\formula1\\\\tb_equipe.xlsx')"
   ]
  },
  {
   "cell_type": "code",
   "execution_count": 111,
   "metadata": {},
   "outputs": [
    {
     "data": {
      "text/html": [
       "<div>\n",
       "<style scoped>\n",
       "    .dataframe tbody tr th:only-of-type {\n",
       "        vertical-align: middle;\n",
       "    }\n",
       "\n",
       "    .dataframe tbody tr th {\n",
       "        vertical-align: top;\n",
       "    }\n",
       "\n",
       "    .dataframe thead th {\n",
       "        text-align: right;\n",
       "    }\n",
       "</style>\n",
       "<table border=\"1\" class=\"dataframe\">\n",
       "  <thead>\n",
       "    <tr style=\"text-align: right;\">\n",
       "      <th></th>\n",
       "      <th>EQUIPE</th>\n",
       "      <th>ID_Pais</th>\n",
       "    </tr>\n",
       "  </thead>\n",
       "  <tbody>\n",
       "    <tr>\n",
       "      <th>0</th>\n",
       "      <td>MERCEDES</td>\n",
       "      <td>11</td>\n",
       "    </tr>\n",
       "    <tr>\n",
       "      <th>1</th>\n",
       "      <td>FERRARI</td>\n",
       "      <td>14</td>\n",
       "    </tr>\n",
       "    <tr>\n",
       "      <th>2</th>\n",
       "      <td>RED BULL</td>\n",
       "      <td>10</td>\n",
       "    </tr>\n",
       "    <tr>\n",
       "      <th>3</th>\n",
       "      <td>McLAREN</td>\n",
       "      <td>10</td>\n",
       "    </tr>\n",
       "    <tr>\n",
       "      <th>4</th>\n",
       "      <td>RENAULT</td>\n",
       "      <td>8</td>\n",
       "    </tr>\n",
       "    <tr>\n",
       "      <th>5</th>\n",
       "      <td>TORO ROSSO</td>\n",
       "      <td>14</td>\n",
       "    </tr>\n",
       "    <tr>\n",
       "      <th>6</th>\n",
       "      <td>RACING POINT</td>\n",
       "      <td>10</td>\n",
       "    </tr>\n",
       "    <tr>\n",
       "      <th>7</th>\n",
       "      <td>ALFA ROMEO</td>\n",
       "      <td>14</td>\n",
       "    </tr>\n",
       "    <tr>\n",
       "      <th>8</th>\n",
       "      <td>HAAS</td>\n",
       "      <td>19</td>\n",
       "    </tr>\n",
       "    <tr>\n",
       "      <th>9</th>\n",
       "      <td>WILLIAMS</td>\n",
       "      <td>10</td>\n",
       "    </tr>\n",
       "  </tbody>\n",
       "</table>\n",
       "</div>"
      ],
      "text/plain": [
       "         EQUIPE  ID_Pais\n",
       "0      MERCEDES       11\n",
       "1       FERRARI       14\n",
       "2      RED BULL       10\n",
       "3       McLAREN       10\n",
       "4       RENAULT        8\n",
       "5    TORO ROSSO       14\n",
       "6  RACING POINT       10\n",
       "7    ALFA ROMEO       14\n",
       "8          HAAS       19\n",
       "9      WILLIAMS       10"
      ]
     },
     "execution_count": 111,
     "metadata": {},
     "output_type": "execute_result"
    }
   ],
   "source": [
    "df2"
   ]
  },
  {
   "cell_type": "code",
   "execution_count": 112,
   "metadata": {},
   "outputs": [],
   "source": [
    "dados3 = df2.values.tolist()"
   ]
  },
  {
   "cell_type": "code",
   "execution_count": 113,
   "metadata": {},
   "outputs": [
    {
     "data": {
      "text/plain": [
       "[['MERCEDES', 11],\n",
       " ['FERRARI', 14],\n",
       " ['RED BULL', 10],\n",
       " ['McLAREN', 10],\n",
       " ['RENAULT', 8],\n",
       " ['TORO ROSSO', 14],\n",
       " ['RACING POINT', 10],\n",
       " ['ALFA ROMEO', 14],\n",
       " ['HAAS', 19],\n",
       " ['WILLIAMS', 10]]"
      ]
     },
     "execution_count": 113,
     "metadata": {},
     "output_type": "execute_result"
    }
   ],
   "source": [
    "dados3"
   ]
  },
  {
   "cell_type": "code",
   "execution_count": 114,
   "metadata": {},
   "outputs": [
    {
     "name": "stdout",
     "output_type": "stream",
     "text": [
      "('ID_EQUIPE', b'tinyint', 'NO', 'PRI', None, 'auto_increment')\n",
      "('NM_EQUIPE', b'varchar(25)', 'NO', '', None, '')\n",
      "('ID_PAIS', b'tinyint', 'NO', 'MUL', None, '')\n"
     ]
    }
   ],
   "source": [
    "c = db.cursor()\n",
    "c.execute(\"DESCRIBE tb_equipe\")\n",
    "\n",
    "for x in c:\n",
    "    print(x)"
   ]
  },
  {
   "cell_type": "code",
   "execution_count": 115,
   "metadata": {},
   "outputs": [],
   "source": [
    "sqlb = \"INSERT INTO tb_equipe (NM_EQUIPE, ID_PAIS) VALUES (%s,%s)\""
   ]
  },
  {
   "cell_type": "code",
   "execution_count": 116,
   "metadata": {},
   "outputs": [],
   "source": [
    "c.executemany(sqlb,dados3)\n",
    "db.commit()"
   ]
  },
  {
   "cell_type": "code",
   "execution_count": 117,
   "metadata": {},
   "outputs": [
    {
     "name": "stdout",
     "output_type": "stream",
     "text": [
      "(1, 'MERCEDES', 11)\n",
      "(2, 'FERRARI', 14)\n",
      "(3, 'RED BULL', 10)\n",
      "(4, 'McLAREN', 10)\n",
      "(5, 'RENAULT', 8)\n",
      "(6, 'TORO ROSSO', 14)\n",
      "(7, 'RACING POINT', 10)\n",
      "(8, 'ALFA ROMEO', 14)\n",
      "(9, 'HAAS', 19)\n",
      "(10, 'WILLIAMS', 10)\n"
     ]
    }
   ],
   "source": [
    "c.execute(\"SELECT * FROM tb_equipe\")\n",
    "\n",
    "for x in c:\n",
    "    print(x)"
   ]
  },
  {
   "cell_type": "code",
   "execution_count": 118,
   "metadata": {},
   "outputs": [],
   "source": [
    "# Criaçao tabela pilotos"
   ]
  },
  {
   "cell_type": "code",
   "execution_count": 119,
   "metadata": {},
   "outputs": [],
   "source": [
    "df3 = pd.read_excel('H:\\\\formula1\\\\tb_piloto.xlsx')"
   ]
  },
  {
   "cell_type": "code",
   "execution_count": 120,
   "metadata": {},
   "outputs": [
    {
     "data": {
      "text/html": [
       "<div>\n",
       "<style scoped>\n",
       "    .dataframe tbody tr th:only-of-type {\n",
       "        vertical-align: middle;\n",
       "    }\n",
       "\n",
       "    .dataframe tbody tr th {\n",
       "        vertical-align: top;\n",
       "    }\n",
       "\n",
       "    .dataframe thead th {\n",
       "        text-align: right;\n",
       "    }\n",
       "</style>\n",
       "<table border=\"1\" class=\"dataframe\">\n",
       "  <thead>\n",
       "    <tr style=\"text-align: right;\">\n",
       "      <th></th>\n",
       "      <th>NOME</th>\n",
       "      <th>DATA NASCIMENTO</th>\n",
       "      <th>ID_PAIS</th>\n",
       "      <th>ID_EQUIPE</th>\n",
       "    </tr>\n",
       "  </thead>\n",
       "  <tbody>\n",
       "    <tr>\n",
       "      <th>0</th>\n",
       "      <td>LEWIS HAMILTON</td>\n",
       "      <td>1985-02-15</td>\n",
       "      <td>10</td>\n",
       "      <td>1</td>\n",
       "    </tr>\n",
       "    <tr>\n",
       "      <th>1</th>\n",
       "      <td>VALTTERI BOTTAS</td>\n",
       "      <td>1989-08-28</td>\n",
       "      <td>22</td>\n",
       "      <td>1</td>\n",
       "    </tr>\n",
       "    <tr>\n",
       "      <th>2</th>\n",
       "      <td>MAX VERSTAPPEN</td>\n",
       "      <td>1997-09-30</td>\n",
       "      <td>23</td>\n",
       "      <td>3</td>\n",
       "    </tr>\n",
       "    <tr>\n",
       "      <th>3</th>\n",
       "      <td>CHARLES LECLERC</td>\n",
       "      <td>1997-10-16</td>\n",
       "      <td>6</td>\n",
       "      <td>2</td>\n",
       "    </tr>\n",
       "    <tr>\n",
       "      <th>4</th>\n",
       "      <td>SEBASTIAN VETTEL</td>\n",
       "      <td>1987-07-03</td>\n",
       "      <td>11</td>\n",
       "      <td>2</td>\n",
       "    </tr>\n",
       "    <tr>\n",
       "      <th>5</th>\n",
       "      <td>CARLOS SAINZ JR.</td>\n",
       "      <td>1994-09-21</td>\n",
       "      <td>5</td>\n",
       "      <td>4</td>\n",
       "    </tr>\n",
       "    <tr>\n",
       "      <th>6</th>\n",
       "      <td>PIERRE GASLY</td>\n",
       "      <td>1996-02-07</td>\n",
       "      <td>8</td>\n",
       "      <td>3</td>\n",
       "    </tr>\n",
       "    <tr>\n",
       "      <th>7</th>\n",
       "      <td>ALEXANDER ALBON</td>\n",
       "      <td>1996-03-23</td>\n",
       "      <td>25</td>\n",
       "      <td>6</td>\n",
       "    </tr>\n",
       "    <tr>\n",
       "      <th>8</th>\n",
       "      <td>DANIEL RICCIARDO</td>\n",
       "      <td>1989-07-01</td>\n",
       "      <td>1</td>\n",
       "      <td>5</td>\n",
       "    </tr>\n",
       "    <tr>\n",
       "      <th>9</th>\n",
       "      <td>SERGIO PÉREZ</td>\n",
       "      <td>1990-01-26</td>\n",
       "      <td>18</td>\n",
       "      <td>7</td>\n",
       "    </tr>\n",
       "    <tr>\n",
       "      <th>10</th>\n",
       "      <td>LANDO NORRIS</td>\n",
       "      <td>1999-11-13</td>\n",
       "      <td>10</td>\n",
       "      <td>4</td>\n",
       "    </tr>\n",
       "    <tr>\n",
       "      <th>11</th>\n",
       "      <td>KIMI RAIKKONEN</td>\n",
       "      <td>1979-10-17</td>\n",
       "      <td>22</td>\n",
       "      <td>8</td>\n",
       "    </tr>\n",
       "    <tr>\n",
       "      <th>12</th>\n",
       "      <td>NICO HULKENBERG</td>\n",
       "      <td>1987-08-19</td>\n",
       "      <td>11</td>\n",
       "      <td>5</td>\n",
       "    </tr>\n",
       "    <tr>\n",
       "      <th>13</th>\n",
       "      <td>DANIIL KVYAT</td>\n",
       "      <td>1994-04-26</td>\n",
       "      <td>16</td>\n",
       "      <td>6</td>\n",
       "    </tr>\n",
       "    <tr>\n",
       "      <th>14</th>\n",
       "      <td>LANCE STROLL</td>\n",
       "      <td>1998-10-29</td>\n",
       "      <td>7</td>\n",
       "      <td>7</td>\n",
       "    </tr>\n",
       "    <tr>\n",
       "      <th>15</th>\n",
       "      <td>KEVIN MAGNUSSEN</td>\n",
       "      <td>1992-10-05</td>\n",
       "      <td>27</td>\n",
       "      <td>9</td>\n",
       "    </tr>\n",
       "    <tr>\n",
       "      <th>16</th>\n",
       "      <td>ANTONIO GIOVINAZZI</td>\n",
       "      <td>1993-12-14</td>\n",
       "      <td>14</td>\n",
       "      <td>8</td>\n",
       "    </tr>\n",
       "    <tr>\n",
       "      <th>17</th>\n",
       "      <td>ROMAIN GROSJEAN</td>\n",
       "      <td>1986-04-17</td>\n",
       "      <td>8</td>\n",
       "      <td>9</td>\n",
       "    </tr>\n",
       "    <tr>\n",
       "      <th>18</th>\n",
       "      <td>ROBERT KUBICA</td>\n",
       "      <td>1984-12-07</td>\n",
       "      <td>28</td>\n",
       "      <td>10</td>\n",
       "    </tr>\n",
       "    <tr>\n",
       "      <th>19</th>\n",
       "      <td>GEORGE RUSSELL</td>\n",
       "      <td>1998-02-15</td>\n",
       "      <td>10</td>\n",
       "      <td>10</td>\n",
       "    </tr>\n",
       "  </tbody>\n",
       "</table>\n",
       "</div>"
      ],
      "text/plain": [
       "                  NOME DATA NASCIMENTO  ID_PAIS  ID_EQUIPE\n",
       "0       LEWIS HAMILTON      1985-02-15       10          1\n",
       "1      VALTTERI BOTTAS      1989-08-28       22          1\n",
       "2       MAX VERSTAPPEN      1997-09-30       23          3\n",
       "3      CHARLES LECLERC      1997-10-16        6          2\n",
       "4     SEBASTIAN VETTEL      1987-07-03       11          2\n",
       "5     CARLOS SAINZ JR.      1994-09-21        5          4\n",
       "6         PIERRE GASLY      1996-02-07        8          3\n",
       "7      ALEXANDER ALBON      1996-03-23       25          6\n",
       "8     DANIEL RICCIARDO      1989-07-01        1          5\n",
       "9         SERGIO PÉREZ      1990-01-26       18          7\n",
       "10        LANDO NORRIS      1999-11-13       10          4\n",
       "11      KIMI RAIKKONEN      1979-10-17       22          8\n",
       "12     NICO HULKENBERG      1987-08-19       11          5\n",
       "13        DANIIL KVYAT      1994-04-26       16          6\n",
       "14        LANCE STROLL      1998-10-29        7          7\n",
       "15     KEVIN MAGNUSSEN      1992-10-05       27          9\n",
       "16  ANTONIO GIOVINAZZI      1993-12-14       14          8\n",
       "17     ROMAIN GROSJEAN      1986-04-17        8          9\n",
       "18       ROBERT KUBICA      1984-12-07       28         10\n",
       "19      GEORGE RUSSELL      1998-02-15       10         10"
      ]
     },
     "execution_count": 120,
     "metadata": {},
     "output_type": "execute_result"
    }
   ],
   "source": [
    "df3"
   ]
  },
  {
   "cell_type": "code",
   "execution_count": 121,
   "metadata": {},
   "outputs": [],
   "source": [
    "# A coluna Data de Nascimento é do tipo TIMESTAMP não aceita na conversão para MYSQl, ela deve ser convertida para string antes\n",
    "df3['DATA NASCIMENTO'] = df3['DATA NASCIMENTO'].astype('string')"
   ]
  },
  {
   "cell_type": "code",
   "execution_count": 122,
   "metadata": {},
   "outputs": [],
   "source": [
    "dados4 = df3.values.tolist()"
   ]
  },
  {
   "cell_type": "code",
   "execution_count": 123,
   "metadata": {},
   "outputs": [
    {
     "data": {
      "text/plain": [
       "[['LEWIS HAMILTON', '1985-02-15', 10, 1],\n",
       " ['VALTTERI BOTTAS', '1989-08-28', 22, 1],\n",
       " ['MAX VERSTAPPEN', '1997-09-30', 23, 3],\n",
       " ['CHARLES LECLERC', '1997-10-16', 6, 2],\n",
       " ['SEBASTIAN VETTEL', '1987-07-03', 11, 2],\n",
       " ['CARLOS SAINZ JR.', '1994-09-21', 5, 4],\n",
       " ['PIERRE GASLY', '1996-02-07', 8, 3],\n",
       " ['ALEXANDER ALBON', '1996-03-23', 25, 6],\n",
       " ['DANIEL RICCIARDO', '1989-07-01', 1, 5],\n",
       " ['SERGIO PÉREZ', '1990-01-26', 18, 7],\n",
       " ['LANDO NORRIS', '1999-11-13', 10, 4],\n",
       " ['KIMI RAIKKONEN', '1979-10-17', 22, 8],\n",
       " ['NICO HULKENBERG', '1987-08-19', 11, 5],\n",
       " ['DANIIL KVYAT', '1994-04-26', 16, 6],\n",
       " ['LANCE STROLL', '1998-10-29', 7, 7],\n",
       " ['KEVIN MAGNUSSEN', '1992-10-05', 27, 9],\n",
       " ['ANTONIO GIOVINAZZI', '1993-12-14', 14, 8],\n",
       " ['ROMAIN GROSJEAN', '1986-04-17', 8, 9],\n",
       " ['ROBERT KUBICA', '1984-12-07', 28, 10],\n",
       " ['GEORGE RUSSELL', '1998-02-15', 10, 10]]"
      ]
     },
     "execution_count": 123,
     "metadata": {},
     "output_type": "execute_result"
    }
   ],
   "source": [
    "dados4"
   ]
  },
  {
   "cell_type": "code",
   "execution_count": 124,
   "metadata": {},
   "outputs": [
    {
     "name": "stdout",
     "output_type": "stream",
     "text": [
      "('ID_PILOTO', b'tinyint', 'NO', 'PRI', None, 'auto_increment')\n",
      "('NM_PILOTO', b'varchar(25)', 'NO', '', None, '')\n",
      "('DT_NASCIMENTO', b'date', 'NO', '', None, '')\n",
      "('ID_PAIS', b'tinyint', 'NO', 'MUL', None, '')\n",
      "('ID_EQUIPE', b'tinyint', 'NO', 'MUL', None, '')\n"
     ]
    }
   ],
   "source": [
    "c = db.cursor()\n",
    "c.execute(\"DESCRIBE tb_piloto\")\n",
    "\n",
    "for x in c:\n",
    "    print(x)"
   ]
  },
  {
   "cell_type": "code",
   "execution_count": 125,
   "metadata": {},
   "outputs": [],
   "source": [
    "sqlc = \"INSERT INTO tb_piloto (NM_PILOTO, DT_NASCIMENTO, ID_PAIS, ID_EQUIPE) VALUES (%s,%s,%s,%s)\""
   ]
  },
  {
   "cell_type": "code",
   "execution_count": 126,
   "metadata": {},
   "outputs": [],
   "source": [
    "c.executemany(sqlc,dados4)\n",
    "db.commit()"
   ]
  },
  {
   "cell_type": "code",
   "execution_count": 127,
   "metadata": {},
   "outputs": [
    {
     "name": "stdout",
     "output_type": "stream",
     "text": [
      "(1, 'LEWIS HAMILTON', datetime.date(1985, 2, 15), 10, 1)\n",
      "(2, 'VALTTERI BOTTAS', datetime.date(1989, 8, 28), 22, 1)\n",
      "(3, 'MAX VERSTAPPEN', datetime.date(1997, 9, 30), 23, 3)\n",
      "(4, 'CHARLES LECLERC', datetime.date(1997, 10, 16), 6, 2)\n",
      "(5, 'SEBASTIAN VETTEL', datetime.date(1987, 7, 3), 11, 2)\n",
      "(6, 'CARLOS SAINZ JR.', datetime.date(1994, 9, 21), 5, 4)\n",
      "(7, 'PIERRE GASLY', datetime.date(1996, 2, 7), 8, 3)\n",
      "(8, 'ALEXANDER ALBON', datetime.date(1996, 3, 23), 25, 6)\n",
      "(9, 'DANIEL RICCIARDO', datetime.date(1989, 7, 1), 1, 5)\n",
      "(10, 'SERGIO PÉREZ', datetime.date(1990, 1, 26), 18, 7)\n",
      "(11, 'LANDO NORRIS', datetime.date(1999, 11, 13), 10, 4)\n",
      "(12, 'KIMI RAIKKONEN', datetime.date(1979, 10, 17), 22, 8)\n",
      "(13, 'NICO HULKENBERG', datetime.date(1987, 8, 19), 11, 5)\n",
      "(14, 'DANIIL KVYAT', datetime.date(1994, 4, 26), 16, 6)\n",
      "(15, 'LANCE STROLL', datetime.date(1998, 10, 29), 7, 7)\n",
      "(16, 'KEVIN MAGNUSSEN', datetime.date(1992, 10, 5), 27, 9)\n",
      "(17, 'ANTONIO GIOVINAZZI', datetime.date(1993, 12, 14), 14, 8)\n",
      "(18, 'ROMAIN GROSJEAN', datetime.date(1986, 4, 17), 8, 9)\n",
      "(19, 'ROBERT KUBICA', datetime.date(1984, 12, 7), 28, 10)\n",
      "(20, 'GEORGE RUSSELL', datetime.date(1998, 2, 15), 10, 10)\n"
     ]
    }
   ],
   "source": [
    "c.execute(\"SELECT * FROM tb_piloto\")\n",
    "\n",
    "for x in c:\n",
    "    print(x)"
   ]
  },
  {
   "cell_type": "code",
   "execution_count": 128,
   "metadata": {},
   "outputs": [],
   "source": [
    "# Criaçao tabela tb_prova"
   ]
  },
  {
   "cell_type": "code",
   "execution_count": 129,
   "metadata": {},
   "outputs": [],
   "source": [
    "df4 = pd.read_excel('H:\\\\formula1\\\\tb_prova.xlsx')"
   ]
  },
  {
   "cell_type": "code",
   "execution_count": 130,
   "metadata": {},
   "outputs": [
    {
     "data": {
      "text/html": [
       "<div>\n",
       "<style scoped>\n",
       "    .dataframe tbody tr th:only-of-type {\n",
       "        vertical-align: middle;\n",
       "    }\n",
       "\n",
       "    .dataframe tbody tr th {\n",
       "        vertical-align: top;\n",
       "    }\n",
       "\n",
       "    .dataframe thead th {\n",
       "        text-align: right;\n",
       "    }\n",
       "</style>\n",
       "<table border=\"1\" class=\"dataframe\">\n",
       "  <thead>\n",
       "    <tr style=\"text-align: right;\">\n",
       "      <th></th>\n",
       "      <th>DATA</th>\n",
       "      <th>NM_SITUACAO</th>\n",
       "      <th>ID_CIRCUITO</th>\n",
       "    </tr>\n",
       "  </thead>\n",
       "  <tbody>\n",
       "    <tr>\n",
       "      <th>0</th>\n",
       "      <td>2019-03-17</td>\n",
       "      <td>MELBOURNE</td>\n",
       "      <td>1</td>\n",
       "    </tr>\n",
       "    <tr>\n",
       "      <th>1</th>\n",
       "      <td>1931-03-01</td>\n",
       "      <td>SAKHIR</td>\n",
       "      <td>2</td>\n",
       "    </tr>\n",
       "    <tr>\n",
       "      <th>2</th>\n",
       "      <td>2019-04-14</td>\n",
       "      <td>XANGAI</td>\n",
       "      <td>3</td>\n",
       "    </tr>\n",
       "    <tr>\n",
       "      <th>3</th>\n",
       "      <td>2019-04-28</td>\n",
       "      <td>BAKU</td>\n",
       "      <td>4</td>\n",
       "    </tr>\n",
       "    <tr>\n",
       "      <th>4</th>\n",
       "      <td>2019-05-12</td>\n",
       "      <td>BARCELONA</td>\n",
       "      <td>5</td>\n",
       "    </tr>\n",
       "    <tr>\n",
       "      <th>5</th>\n",
       "      <td>2019-05-26</td>\n",
       "      <td>MONTE CARLO</td>\n",
       "      <td>6</td>\n",
       "    </tr>\n",
       "    <tr>\n",
       "      <th>6</th>\n",
       "      <td>2019-06-01</td>\n",
       "      <td>MONTREAL</td>\n",
       "      <td>7</td>\n",
       "    </tr>\n",
       "    <tr>\n",
       "      <th>7</th>\n",
       "      <td>2019-06-01</td>\n",
       "      <td>PAUL RICARD</td>\n",
       "      <td>8</td>\n",
       "    </tr>\n",
       "    <tr>\n",
       "      <th>8</th>\n",
       "      <td>2019-06-01</td>\n",
       "      <td>SPIELBERG</td>\n",
       "      <td>9</td>\n",
       "    </tr>\n",
       "    <tr>\n",
       "      <th>9</th>\n",
       "      <td>2019-07-01</td>\n",
       "      <td>SILVERSTONE</td>\n",
       "      <td>10</td>\n",
       "    </tr>\n",
       "    <tr>\n",
       "      <th>10</th>\n",
       "      <td>2019-07-01</td>\n",
       "      <td>HOCKENHEIM</td>\n",
       "      <td>11</td>\n",
       "    </tr>\n",
       "    <tr>\n",
       "      <th>11</th>\n",
       "      <td>2019-08-01</td>\n",
       "      <td>HUNGARORING</td>\n",
       "      <td>12</td>\n",
       "    </tr>\n",
       "    <tr>\n",
       "      <th>12</th>\n",
       "      <td>2019-09-01</td>\n",
       "      <td>SPA-FRANCORCHAMPS</td>\n",
       "      <td>13</td>\n",
       "    </tr>\n",
       "    <tr>\n",
       "      <th>13</th>\n",
       "      <td>2019-09-08</td>\n",
       "      <td>MONZA</td>\n",
       "      <td>14</td>\n",
       "    </tr>\n",
       "    <tr>\n",
       "      <th>14</th>\n",
       "      <td>2019-09-22</td>\n",
       "      <td>MARINA BAY</td>\n",
       "      <td>15</td>\n",
       "    </tr>\n",
       "    <tr>\n",
       "      <th>15</th>\n",
       "      <td>2019-09-29</td>\n",
       "      <td>SOCHI</td>\n",
       "      <td>16</td>\n",
       "    </tr>\n",
       "    <tr>\n",
       "      <th>16</th>\n",
       "      <td>2019-10-01</td>\n",
       "      <td>SUZUKA</td>\n",
       "      <td>17</td>\n",
       "    </tr>\n",
       "    <tr>\n",
       "      <th>17</th>\n",
       "      <td>2019-10-01</td>\n",
       "      <td>HERMANOS RODRIGUEZ</td>\n",
       "      <td>18</td>\n",
       "    </tr>\n",
       "    <tr>\n",
       "      <th>18</th>\n",
       "      <td>2019-11-01</td>\n",
       "      <td>AUSTIN</td>\n",
       "      <td>19</td>\n",
       "    </tr>\n",
       "    <tr>\n",
       "      <th>19</th>\n",
       "      <td>2019-11-01</td>\n",
       "      <td>INTERLAGOS</td>\n",
       "      <td>20</td>\n",
       "    </tr>\n",
       "    <tr>\n",
       "      <th>20</th>\n",
       "      <td>2019-12-01</td>\n",
       "      <td>YAS MARINA</td>\n",
       "      <td>21</td>\n",
       "    </tr>\n",
       "  </tbody>\n",
       "</table>\n",
       "</div>"
      ],
      "text/plain": [
       "         DATA         NM_SITUACAO  ID_CIRCUITO\n",
       "0  2019-03-17           MELBOURNE            1\n",
       "1  1931-03-01              SAKHIR            2\n",
       "2  2019-04-14              XANGAI            3\n",
       "3  2019-04-28                BAKU            4\n",
       "4  2019-05-12           BARCELONA            5\n",
       "5  2019-05-26         MONTE CARLO            6\n",
       "6  2019-06-01            MONTREAL            7\n",
       "7  2019-06-01         PAUL RICARD            8\n",
       "8  2019-06-01           SPIELBERG            9\n",
       "9  2019-07-01         SILVERSTONE           10\n",
       "10 2019-07-01          HOCKENHEIM           11\n",
       "11 2019-08-01         HUNGARORING           12\n",
       "12 2019-09-01   SPA-FRANCORCHAMPS           13\n",
       "13 2019-09-08               MONZA           14\n",
       "14 2019-09-22          MARINA BAY           15\n",
       "15 2019-09-29               SOCHI           16\n",
       "16 2019-10-01              SUZUKA           17\n",
       "17 2019-10-01  HERMANOS RODRIGUEZ           18\n",
       "18 2019-11-01              AUSTIN           19\n",
       "19 2019-11-01          INTERLAGOS           20\n",
       "20 2019-12-01          YAS MARINA           21"
      ]
     },
     "execution_count": 130,
     "metadata": {},
     "output_type": "execute_result"
    }
   ],
   "source": [
    "df4"
   ]
  },
  {
   "cell_type": "code",
   "execution_count": 131,
   "metadata": {},
   "outputs": [],
   "source": [
    "# A coluna Data de Nascimento é do tipo TIMESTAMP não aceita na conversão para MYSQl, ela deve ser convertida para string antes\n",
    "df4['DATA'] = df4['DATA'].astype('string')"
   ]
  },
  {
   "cell_type": "code",
   "execution_count": 132,
   "metadata": {},
   "outputs": [],
   "source": [
    "dados5 = df4.values.tolist()"
   ]
  },
  {
   "cell_type": "code",
   "execution_count": 133,
   "metadata": {},
   "outputs": [
    {
     "data": {
      "text/plain": [
       "[['2019-03-17', 'MELBOURNE', 1],\n",
       " ['1931-03-01', 'SAKHIR', 2],\n",
       " ['2019-04-14', 'XANGAI', 3],\n",
       " ['2019-04-28', 'BAKU', 4],\n",
       " ['2019-05-12', 'BARCELONA', 5],\n",
       " ['2019-05-26', 'MONTE CARLO', 6],\n",
       " ['2019-06-01', 'MONTREAL', 7],\n",
       " ['2019-06-01', 'PAUL RICARD', 8],\n",
       " ['2019-06-01', 'SPIELBERG', 9],\n",
       " ['2019-07-01', 'SILVERSTONE', 10],\n",
       " ['2019-07-01', 'HOCKENHEIM', 11],\n",
       " ['2019-08-01', 'HUNGARORING', 12],\n",
       " ['2019-09-01', 'SPA-FRANCORCHAMPS', 13],\n",
       " ['2019-09-08', 'MONZA', 14],\n",
       " ['2019-09-22', 'MARINA BAY', 15],\n",
       " ['2019-09-29', 'SOCHI', 16],\n",
       " ['2019-10-01', 'SUZUKA', 17],\n",
       " ['2019-10-01', 'HERMANOS RODRIGUEZ', 18],\n",
       " ['2019-11-01', 'AUSTIN', 19],\n",
       " ['2019-11-01', 'INTERLAGOS', 20],\n",
       " ['2019-12-01', 'YAS MARINA', 21]]"
      ]
     },
     "execution_count": 133,
     "metadata": {},
     "output_type": "execute_result"
    }
   ],
   "source": [
    "dados5"
   ]
  },
  {
   "cell_type": "code",
   "execution_count": 134,
   "metadata": {},
   "outputs": [
    {
     "name": "stdout",
     "output_type": "stream",
     "text": [
      "('ID_PROVA', b'tinyint', 'NO', 'PRI', None, 'auto_increment')\n",
      "('DT_PROVA', b'date', 'NO', '', None, '')\n",
      "('NM_SITUACAO', b'varchar(25)', 'NO', '', None, '')\n",
      "('ID_CIRCUITO', b'tinyint', 'NO', 'MUL', None, '')\n"
     ]
    }
   ],
   "source": [
    "c = db.cursor()\n",
    "c.execute(\"DESCRIBE tb_prova\")\n",
    "\n",
    "for x in c:\n",
    "    print(x)"
   ]
  },
  {
   "cell_type": "code",
   "execution_count": 135,
   "metadata": {},
   "outputs": [],
   "source": [
    "sqld = \"INSERT INTO tb_prova (DT_PROVA, NM_SITUACAO, ID_CIRCUITO) VALUES (%s,%s,%s)\""
   ]
  },
  {
   "cell_type": "code",
   "execution_count": 136,
   "metadata": {},
   "outputs": [],
   "source": [
    "c.executemany(sqld,dados5)\n",
    "db.commit()"
   ]
  },
  {
   "cell_type": "code",
   "execution_count": 137,
   "metadata": {},
   "outputs": [
    {
     "name": "stdout",
     "output_type": "stream",
     "text": [
      "(1, datetime.date(2019, 3, 17), 'MELBOURNE', 1)\n",
      "(2, datetime.date(1931, 3, 1), 'SAKHIR', 2)\n",
      "(3, datetime.date(2019, 4, 14), 'XANGAI', 3)\n",
      "(4, datetime.date(2019, 4, 28), 'BAKU', 4)\n",
      "(5, datetime.date(2019, 5, 12), 'BARCELONA', 5)\n",
      "(6, datetime.date(2019, 5, 26), 'MONTE CARLO', 6)\n",
      "(7, datetime.date(2019, 6, 1), 'MONTREAL', 7)\n",
      "(8, datetime.date(2019, 6, 1), 'PAUL RICARD', 8)\n",
      "(9, datetime.date(2019, 6, 1), 'SPIELBERG', 9)\n",
      "(10, datetime.date(2019, 7, 1), 'SILVERSTONE', 10)\n",
      "(11, datetime.date(2019, 7, 1), 'HOCKENHEIM', 11)\n",
      "(12, datetime.date(2019, 8, 1), 'HUNGARORING', 12)\n",
      "(13, datetime.date(2019, 9, 1), 'SPA-FRANCORCHAMPS', 13)\n",
      "(14, datetime.date(2019, 9, 8), 'MONZA', 14)\n",
      "(15, datetime.date(2019, 9, 22), 'MARINA BAY', 15)\n",
      "(16, datetime.date(2019, 9, 29), 'SOCHI', 16)\n",
      "(17, datetime.date(2019, 10, 1), 'SUZUKA', 17)\n",
      "(18, datetime.date(2019, 10, 1), 'HERMANOS RODRIGUEZ', 18)\n",
      "(19, datetime.date(2019, 11, 1), 'AUSTIN', 19)\n",
      "(20, datetime.date(2019, 11, 1), 'INTERLAGOS', 20)\n",
      "(21, datetime.date(2019, 12, 1), 'YAS MARINA', 21)\n"
     ]
    }
   ],
   "source": [
    "c.execute(\"SELECT * FROM tb_prova\")\n",
    "\n",
    "for x in c:\n",
    "    print(x)"
   ]
  },
  {
   "cell_type": "code",
   "execution_count": 138,
   "metadata": {},
   "outputs": [],
   "source": [
    "# Criaçao tabela tb_resultado"
   ]
  },
  {
   "cell_type": "code",
   "execution_count": 139,
   "metadata": {},
   "outputs": [],
   "source": [
    "df5 = pd.read_excel('H:\\\\formula1\\\\tb_resultado.xlsx')"
   ]
  },
  {
   "cell_type": "code",
   "execution_count": 140,
   "metadata": {},
   "outputs": [
    {
     "data": {
      "text/html": [
       "<div>\n",
       "<style scoped>\n",
       "    .dataframe tbody tr th:only-of-type {\n",
       "        vertical-align: middle;\n",
       "    }\n",
       "\n",
       "    .dataframe tbody tr th {\n",
       "        vertical-align: top;\n",
       "    }\n",
       "\n",
       "    .dataframe thead th {\n",
       "        text-align: right;\n",
       "    }\n",
       "</style>\n",
       "<table border=\"1\" class=\"dataframe\">\n",
       "  <thead>\n",
       "    <tr style=\"text-align: right;\">\n",
       "      <th></th>\n",
       "      <th>ID_PROVA</th>\n",
       "      <th>ID_PILOTO</th>\n",
       "      <th>NR_TEMPO_PROVA</th>\n",
       "      <th>NR_COLOC_FINAL</th>\n",
       "      <th>NR_POSICAO_GRID</th>\n",
       "      <th>NR_MELHOR_VOLTA</th>\n",
       "    </tr>\n",
       "  </thead>\n",
       "  <tbody>\n",
       "    <tr>\n",
       "      <th>0</th>\n",
       "      <td>1</td>\n",
       "      <td>1</td>\n",
       "      <td>01:25:48</td>\n",
       "      <td>2</td>\n",
       "      <td>1</td>\n",
       "      <td>18</td>\n",
       "    </tr>\n",
       "    <tr>\n",
       "      <th>1</th>\n",
       "      <td>1</td>\n",
       "      <td>2</td>\n",
       "      <td>01:25:27</td>\n",
       "      <td>1</td>\n",
       "      <td>2</td>\n",
       "      <td>26</td>\n",
       "    </tr>\n",
       "    <tr>\n",
       "      <th>2</th>\n",
       "      <td>1</td>\n",
       "      <td>3</td>\n",
       "      <td>01:25:49</td>\n",
       "      <td>3</td>\n",
       "      <td>4</td>\n",
       "      <td>15</td>\n",
       "    </tr>\n",
       "    <tr>\n",
       "      <th>3</th>\n",
       "      <td>1</td>\n",
       "      <td>4</td>\n",
       "      <td>01:26:25</td>\n",
       "      <td>5</td>\n",
       "      <td>5</td>\n",
       "      <td>10</td>\n",
       "    </tr>\n",
       "    <tr>\n",
       "      <th>4</th>\n",
       "      <td>1</td>\n",
       "      <td>5</td>\n",
       "      <td>01:25:24</td>\n",
       "      <td>4</td>\n",
       "      <td>3</td>\n",
       "      <td>12</td>\n",
       "    </tr>\n",
       "    <tr>\n",
       "      <th>5</th>\n",
       "      <td>1</td>\n",
       "      <td>6</td>\n",
       "      <td>02:00:00</td>\n",
       "      <td>20</td>\n",
       "      <td>18</td>\n",
       "      <td>0</td>\n",
       "    </tr>\n",
       "    <tr>\n",
       "      <th>6</th>\n",
       "      <td>1</td>\n",
       "      <td>7</td>\n",
       "      <td>01:25:35</td>\n",
       "      <td>11</td>\n",
       "      <td>17</td>\n",
       "      <td>0</td>\n",
       "    </tr>\n",
       "    <tr>\n",
       "      <th>7</th>\n",
       "      <td>1</td>\n",
       "      <td>8</td>\n",
       "      <td>01:26:16</td>\n",
       "      <td>14</td>\n",
       "      <td>13</td>\n",
       "      <td>0</td>\n",
       "    </tr>\n",
       "    <tr>\n",
       "      <th>8</th>\n",
       "      <td>1</td>\n",
       "      <td>9</td>\n",
       "      <td>02:00:00</td>\n",
       "      <td>19</td>\n",
       "      <td>12</td>\n",
       "      <td>0</td>\n",
       "    </tr>\n",
       "    <tr>\n",
       "      <th>9</th>\n",
       "      <td>1</td>\n",
       "      <td>10</td>\n",
       "      <td>01:26:15</td>\n",
       "      <td>13</td>\n",
       "      <td>10</td>\n",
       "      <td>0</td>\n",
       "    </tr>\n",
       "    <tr>\n",
       "      <th>10</th>\n",
       "      <td>1</td>\n",
       "      <td>11</td>\n",
       "      <td>01:26:15</td>\n",
       "      <td>12</td>\n",
       "      <td>8</td>\n",
       "      <td>0</td>\n",
       "    </tr>\n",
       "    <tr>\n",
       "      <th>11</th>\n",
       "      <td>1</td>\n",
       "      <td>12</td>\n",
       "      <td>01:25:33</td>\n",
       "      <td>8</td>\n",
       "      <td>9</td>\n",
       "      <td>4</td>\n",
       "    </tr>\n",
       "    <tr>\n",
       "      <th>12</th>\n",
       "      <td>1</td>\n",
       "      <td>13</td>\n",
       "      <td>01:25:32</td>\n",
       "      <td>7</td>\n",
       "      <td>11</td>\n",
       "      <td>6</td>\n",
       "    </tr>\n",
       "    <tr>\n",
       "      <th>13</th>\n",
       "      <td>1</td>\n",
       "      <td>14</td>\n",
       "      <td>01:25:35</td>\n",
       "      <td>10</td>\n",
       "      <td>15</td>\n",
       "      <td>1</td>\n",
       "    </tr>\n",
       "    <tr>\n",
       "      <th>14</th>\n",
       "      <td>1</td>\n",
       "      <td>15</td>\n",
       "      <td>01:25:34</td>\n",
       "      <td>9</td>\n",
       "      <td>16</td>\n",
       "      <td>2</td>\n",
       "    </tr>\n",
       "    <tr>\n",
       "      <th>15</th>\n",
       "      <td>1</td>\n",
       "      <td>16</td>\n",
       "      <td>01:26:24</td>\n",
       "      <td>6</td>\n",
       "      <td>7</td>\n",
       "      <td>8</td>\n",
       "    </tr>\n",
       "    <tr>\n",
       "      <th>16</th>\n",
       "      <td>1</td>\n",
       "      <td>17</td>\n",
       "      <td>01:26:37</td>\n",
       "      <td>15</td>\n",
       "      <td>14</td>\n",
       "      <td>0</td>\n",
       "    </tr>\n",
       "    <tr>\n",
       "      <th>17</th>\n",
       "      <td>1</td>\n",
       "      <td>18</td>\n",
       "      <td>02:00:00</td>\n",
       "      <td>18</td>\n",
       "      <td>6</td>\n",
       "      <td>0</td>\n",
       "    </tr>\n",
       "    <tr>\n",
       "      <th>18</th>\n",
       "      <td>1</td>\n",
       "      <td>19</td>\n",
       "      <td>01:26:19</td>\n",
       "      <td>17</td>\n",
       "      <td>20</td>\n",
       "      <td>0</td>\n",
       "    </tr>\n",
       "    <tr>\n",
       "      <th>19</th>\n",
       "      <td>1</td>\n",
       "      <td>20</td>\n",
       "      <td>01:26:17</td>\n",
       "      <td>16</td>\n",
       "      <td>19</td>\n",
       "      <td>0</td>\n",
       "    </tr>\n",
       "    <tr>\n",
       "      <th>20</th>\n",
       "      <td>2</td>\n",
       "      <td>1</td>\n",
       "      <td>01:34:21</td>\n",
       "      <td>1</td>\n",
       "      <td>3</td>\n",
       "      <td>25</td>\n",
       "    </tr>\n",
       "    <tr>\n",
       "      <th>21</th>\n",
       "      <td>2</td>\n",
       "      <td>2</td>\n",
       "      <td>01:34:24</td>\n",
       "      <td>2</td>\n",
       "      <td>4</td>\n",
       "      <td>18</td>\n",
       "    </tr>\n",
       "    <tr>\n",
       "      <th>22</th>\n",
       "      <td>2</td>\n",
       "      <td>3</td>\n",
       "      <td>01:34:27</td>\n",
       "      <td>4</td>\n",
       "      <td>5</td>\n",
       "      <td>12</td>\n",
       "    </tr>\n",
       "    <tr>\n",
       "      <th>23</th>\n",
       "      <td>2</td>\n",
       "      <td>4</td>\n",
       "      <td>01:34:27</td>\n",
       "      <td>3</td>\n",
       "      <td>1</td>\n",
       "      <td>16</td>\n",
       "    </tr>\n",
       "    <tr>\n",
       "      <th>24</th>\n",
       "      <td>2</td>\n",
       "      <td>5</td>\n",
       "      <td>01:34:57</td>\n",
       "      <td>5</td>\n",
       "      <td>2</td>\n",
       "      <td>10</td>\n",
       "    </tr>\n",
       "    <tr>\n",
       "      <th>25</th>\n",
       "      <td>2</td>\n",
       "      <td>6</td>\n",
       "      <td>02:00:00</td>\n",
       "      <td>19</td>\n",
       "      <td>7</td>\n",
       "      <td>0</td>\n",
       "    </tr>\n",
       "    <tr>\n",
       "      <th>26</th>\n",
       "      <td>2</td>\n",
       "      <td>7</td>\n",
       "      <td>01:35:19</td>\n",
       "      <td>8</td>\n",
       "      <td>13</td>\n",
       "      <td>4</td>\n",
       "    </tr>\n",
       "    <tr>\n",
       "      <th>27</th>\n",
       "      <td>2</td>\n",
       "      <td>8</td>\n",
       "      <td>01:35:23</td>\n",
       "      <td>9</td>\n",
       "      <td>12</td>\n",
       "      <td>2</td>\n",
       "    </tr>\n",
       "    <tr>\n",
       "      <th>28</th>\n",
       "      <td>2</td>\n",
       "      <td>9</td>\n",
       "      <td>02:00:00</td>\n",
       "      <td>18</td>\n",
       "      <td>10</td>\n",
       "      <td>0</td>\n",
       "    </tr>\n",
       "    <tr>\n",
       "      <th>29</th>\n",
       "      <td>2</td>\n",
       "      <td>10</td>\n",
       "      <td>01:35:24</td>\n",
       "      <td>10</td>\n",
       "      <td>14</td>\n",
       "      <td>1</td>\n",
       "    </tr>\n",
       "    <tr>\n",
       "      <th>30</th>\n",
       "      <td>2</td>\n",
       "      <td>11</td>\n",
       "      <td>01:35:07</td>\n",
       "      <td>6</td>\n",
       "      <td>9</td>\n",
       "      <td>8</td>\n",
       "    </tr>\n",
       "    <tr>\n",
       "      <th>31</th>\n",
       "      <td>2</td>\n",
       "      <td>12</td>\n",
       "      <td>01:35:08</td>\n",
       "      <td>7</td>\n",
       "      <td>8</td>\n",
       "      <td>6</td>\n",
       "    </tr>\n",
       "    <tr>\n",
       "      <th>32</th>\n",
       "      <td>2</td>\n",
       "      <td>13</td>\n",
       "      <td>02:00:00</td>\n",
       "      <td>17</td>\n",
       "      <td>17</td>\n",
       "      <td>0</td>\n",
       "    </tr>\n",
       "    <tr>\n",
       "      <th>33</th>\n",
       "      <td>2</td>\n",
       "      <td>14</td>\n",
       "      <td>01:34:22</td>\n",
       "      <td>12</td>\n",
       "      <td>15</td>\n",
       "      <td>0</td>\n",
       "    </tr>\n",
       "    <tr>\n",
       "      <th>34</th>\n",
       "      <td>2</td>\n",
       "      <td>15</td>\n",
       "      <td>01:34:41</td>\n",
       "      <td>14</td>\n",
       "      <td>18</td>\n",
       "      <td>0</td>\n",
       "    </tr>\n",
       "    <tr>\n",
       "      <th>35</th>\n",
       "      <td>2</td>\n",
       "      <td>16</td>\n",
       "      <td>01:34:23</td>\n",
       "      <td>13</td>\n",
       "      <td>6</td>\n",
       "      <td>0</td>\n",
       "    </tr>\n",
       "    <tr>\n",
       "      <th>36</th>\n",
       "      <td>2</td>\n",
       "      <td>17</td>\n",
       "      <td>01:35:25</td>\n",
       "      <td>11</td>\n",
       "      <td>16</td>\n",
       "      <td>0</td>\n",
       "    </tr>\n",
       "    <tr>\n",
       "      <th>37</th>\n",
       "      <td>2</td>\n",
       "      <td>18</td>\n",
       "      <td>02:00:00</td>\n",
       "      <td>20</td>\n",
       "      <td>11</td>\n",
       "      <td>0</td>\n",
       "    </tr>\n",
       "    <tr>\n",
       "      <th>38</th>\n",
       "      <td>2</td>\n",
       "      <td>19</td>\n",
       "      <td>01:34:22</td>\n",
       "      <td>16</td>\n",
       "      <td>20</td>\n",
       "      <td>0</td>\n",
       "    </tr>\n",
       "    <tr>\n",
       "      <th>39</th>\n",
       "      <td>2</td>\n",
       "      <td>20</td>\n",
       "      <td>01:35:21</td>\n",
       "      <td>15</td>\n",
       "      <td>19</td>\n",
       "      <td>0</td>\n",
       "    </tr>\n",
       "  </tbody>\n",
       "</table>\n",
       "</div>"
      ],
      "text/plain": [
       "    ID_PROVA  ID_PILOTO NR_TEMPO_PROVA  NR_COLOC_FINAL  NR_POSICAO_GRID  \\\n",
       "0          1          1       01:25:48               2                1   \n",
       "1          1          2       01:25:27               1                2   \n",
       "2          1          3       01:25:49               3                4   \n",
       "3          1          4       01:26:25               5                5   \n",
       "4          1          5       01:25:24               4                3   \n",
       "5          1          6       02:00:00              20               18   \n",
       "6          1          7       01:25:35              11               17   \n",
       "7          1          8       01:26:16              14               13   \n",
       "8          1          9       02:00:00              19               12   \n",
       "9          1         10       01:26:15              13               10   \n",
       "10         1         11       01:26:15              12                8   \n",
       "11         1         12       01:25:33               8                9   \n",
       "12         1         13       01:25:32               7               11   \n",
       "13         1         14       01:25:35              10               15   \n",
       "14         1         15       01:25:34               9               16   \n",
       "15         1         16       01:26:24               6                7   \n",
       "16         1         17       01:26:37              15               14   \n",
       "17         1         18       02:00:00              18                6   \n",
       "18         1         19       01:26:19              17               20   \n",
       "19         1         20       01:26:17              16               19   \n",
       "20         2          1       01:34:21               1                3   \n",
       "21         2          2       01:34:24               2                4   \n",
       "22         2          3       01:34:27               4                5   \n",
       "23         2          4       01:34:27               3                1   \n",
       "24         2          5       01:34:57               5                2   \n",
       "25         2          6       02:00:00              19                7   \n",
       "26         2          7       01:35:19               8               13   \n",
       "27         2          8       01:35:23               9               12   \n",
       "28         2          9       02:00:00              18               10   \n",
       "29         2         10       01:35:24              10               14   \n",
       "30         2         11       01:35:07               6                9   \n",
       "31         2         12       01:35:08               7                8   \n",
       "32         2         13       02:00:00              17               17   \n",
       "33         2         14       01:34:22              12               15   \n",
       "34         2         15       01:34:41              14               18   \n",
       "35         2         16       01:34:23              13                6   \n",
       "36         2         17       01:35:25              11               16   \n",
       "37         2         18       02:00:00              20               11   \n",
       "38         2         19       01:34:22              16               20   \n",
       "39         2         20       01:35:21              15               19   \n",
       "\n",
       "    NR_MELHOR_VOLTA  \n",
       "0                18  \n",
       "1                26  \n",
       "2                15  \n",
       "3                10  \n",
       "4                12  \n",
       "5                 0  \n",
       "6                 0  \n",
       "7                 0  \n",
       "8                 0  \n",
       "9                 0  \n",
       "10                0  \n",
       "11                4  \n",
       "12                6  \n",
       "13                1  \n",
       "14                2  \n",
       "15                8  \n",
       "16                0  \n",
       "17                0  \n",
       "18                0  \n",
       "19                0  \n",
       "20               25  \n",
       "21               18  \n",
       "22               12  \n",
       "23               16  \n",
       "24               10  \n",
       "25                0  \n",
       "26                4  \n",
       "27                2  \n",
       "28                0  \n",
       "29                1  \n",
       "30                8  \n",
       "31                6  \n",
       "32                0  \n",
       "33                0  \n",
       "34                0  \n",
       "35                0  \n",
       "36                0  \n",
       "37                0  \n",
       "38                0  \n",
       "39                0  "
      ]
     },
     "execution_count": 140,
     "metadata": {},
     "output_type": "execute_result"
    }
   ],
   "source": [
    "df5"
   ]
  },
  {
   "cell_type": "code",
   "execution_count": 141,
   "metadata": {},
   "outputs": [],
   "source": [
    "dados6 = df5.values.tolist()"
   ]
  },
  {
   "cell_type": "code",
   "execution_count": 142,
   "metadata": {},
   "outputs": [
    {
     "data": {
      "text/plain": [
       "[[1, 1, datetime.time(1, 25, 48), 2, 1, 18],\n",
       " [1, 2, datetime.time(1, 25, 27), 1, 2, 26],\n",
       " [1, 3, datetime.time(1, 25, 49), 3, 4, 15],\n",
       " [1, 4, datetime.time(1, 26, 25), 5, 5, 10],\n",
       " [1, 5, datetime.time(1, 25, 24), 4, 3, 12],\n",
       " [1, 6, datetime.time(2, 0), 20, 18, 0],\n",
       " [1, 7, datetime.time(1, 25, 35), 11, 17, 0],\n",
       " [1, 8, datetime.time(1, 26, 16), 14, 13, 0],\n",
       " [1, 9, datetime.time(2, 0), 19, 12, 0],\n",
       " [1, 10, datetime.time(1, 26, 15), 13, 10, 0],\n",
       " [1, 11, datetime.time(1, 26, 15), 12, 8, 0],\n",
       " [1, 12, datetime.time(1, 25, 33), 8, 9, 4],\n",
       " [1, 13, datetime.time(1, 25, 32), 7, 11, 6],\n",
       " [1, 14, datetime.time(1, 25, 35), 10, 15, 1],\n",
       " [1, 15, datetime.time(1, 25, 34), 9, 16, 2],\n",
       " [1, 16, datetime.time(1, 26, 24), 6, 7, 8],\n",
       " [1, 17, datetime.time(1, 26, 37), 15, 14, 0],\n",
       " [1, 18, datetime.time(2, 0), 18, 6, 0],\n",
       " [1, 19, datetime.time(1, 26, 19), 17, 20, 0],\n",
       " [1, 20, datetime.time(1, 26, 17), 16, 19, 0],\n",
       " [2, 1, datetime.time(1, 34, 21), 1, 3, 25],\n",
       " [2, 2, datetime.time(1, 34, 24), 2, 4, 18],\n",
       " [2, 3, datetime.time(1, 34, 27), 4, 5, 12],\n",
       " [2, 4, datetime.time(1, 34, 27), 3, 1, 16],\n",
       " [2, 5, datetime.time(1, 34, 57), 5, 2, 10],\n",
       " [2, 6, datetime.time(2, 0), 19, 7, 0],\n",
       " [2, 7, datetime.time(1, 35, 19), 8, 13, 4],\n",
       " [2, 8, datetime.time(1, 35, 23), 9, 12, 2],\n",
       " [2, 9, datetime.time(2, 0), 18, 10, 0],\n",
       " [2, 10, datetime.time(1, 35, 24), 10, 14, 1],\n",
       " [2, 11, datetime.time(1, 35, 7), 6, 9, 8],\n",
       " [2, 12, datetime.time(1, 35, 8), 7, 8, 6],\n",
       " [2, 13, datetime.time(2, 0), 17, 17, 0],\n",
       " [2, 14, datetime.time(1, 34, 22), 12, 15, 0],\n",
       " [2, 15, datetime.time(1, 34, 41), 14, 18, 0],\n",
       " [2, 16, datetime.time(1, 34, 23), 13, 6, 0],\n",
       " [2, 17, datetime.time(1, 35, 25), 11, 16, 0],\n",
       " [2, 18, datetime.time(2, 0), 20, 11, 0],\n",
       " [2, 19, datetime.time(1, 34, 22), 16, 20, 0],\n",
       " [2, 20, datetime.time(1, 35, 21), 15, 19, 0]]"
      ]
     },
     "execution_count": 142,
     "metadata": {},
     "output_type": "execute_result"
    }
   ],
   "source": [
    "dados6"
   ]
  },
  {
   "cell_type": "code",
   "execution_count": 143,
   "metadata": {},
   "outputs": [
    {
     "name": "stdout",
     "output_type": "stream",
     "text": [
      "('ID_PROVA', b'tinyint', 'NO', 'PRI', None, '')\n",
      "('ID_PILOTO', b'tinyint', 'NO', 'PRI', None, '')\n",
      "('NR_TEMPO_PROVA', b'time', 'NO', '', None, '')\n",
      "('NR_COLOC_FINAL', b'tinyint', 'NO', '', None, '')\n",
      "('NR_POSICAO_GRID', b'tinyint', 'NO', '', None, '')\n",
      "('NR_MELHOR_VOLTA', b'tinyint', 'NO', '', None, '')\n"
     ]
    }
   ],
   "source": [
    "c = db.cursor()\n",
    "c.execute(\"DESCRIBE tb_resultado\")\n",
    "\n",
    "for x in c:\n",
    "    print(x)"
   ]
  },
  {
   "cell_type": "code",
   "execution_count": 144,
   "metadata": {},
   "outputs": [],
   "source": [
    "sqle = \"INSERT INTO tb_resultado (ID_PROVA, ID_PILOTO, NR_TEMPO_PROVA, NR_COLOC_FINAL, NR_POSICAO_GRID, NR_MELHOR_VOLTA) VALUES (%s,%s,%s,%s,%s,%s)\""
   ]
  },
  {
   "cell_type": "code",
   "execution_count": 145,
   "metadata": {},
   "outputs": [],
   "source": [
    "c.executemany(sqle,dados6)\n",
    "db.commit()"
   ]
  },
  {
   "cell_type": "code",
   "execution_count": 146,
   "metadata": {},
   "outputs": [
    {
     "name": "stdout",
     "output_type": "stream",
     "text": [
      "(1, 1, datetime.timedelta(seconds=5148), 2, 1, 18)\n",
      "(1, 2, datetime.timedelta(seconds=5127), 1, 2, 26)\n",
      "(1, 3, datetime.timedelta(seconds=5149), 3, 4, 15)\n",
      "(1, 4, datetime.timedelta(seconds=5185), 5, 5, 10)\n",
      "(1, 5, datetime.timedelta(seconds=5124), 4, 3, 12)\n",
      "(1, 6, datetime.timedelta(seconds=7200), 20, 18, 0)\n",
      "(1, 7, datetime.timedelta(seconds=5135), 11, 17, 0)\n",
      "(1, 8, datetime.timedelta(seconds=5176), 14, 13, 0)\n",
      "(1, 9, datetime.timedelta(seconds=7200), 19, 12, 0)\n",
      "(1, 10, datetime.timedelta(seconds=5175), 13, 10, 0)\n",
      "(1, 11, datetime.timedelta(seconds=5175), 12, 8, 0)\n",
      "(1, 12, datetime.timedelta(seconds=5133), 8, 9, 4)\n",
      "(1, 13, datetime.timedelta(seconds=5132), 7, 11, 6)\n",
      "(1, 14, datetime.timedelta(seconds=5135), 10, 15, 1)\n",
      "(1, 15, datetime.timedelta(seconds=5134), 9, 16, 2)\n",
      "(1, 16, datetime.timedelta(seconds=5184), 6, 7, 8)\n",
      "(1, 17, datetime.timedelta(seconds=5197), 15, 14, 0)\n",
      "(1, 18, datetime.timedelta(seconds=7200), 18, 6, 0)\n",
      "(1, 19, datetime.timedelta(seconds=5179), 17, 20, 0)\n",
      "(1, 20, datetime.timedelta(seconds=5177), 16, 19, 0)\n",
      "(2, 1, datetime.timedelta(seconds=5661), 1, 3, 25)\n",
      "(2, 2, datetime.timedelta(seconds=5664), 2, 4, 18)\n",
      "(2, 3, datetime.timedelta(seconds=5667), 4, 5, 12)\n",
      "(2, 4, datetime.timedelta(seconds=5667), 3, 1, 16)\n",
      "(2, 5, datetime.timedelta(seconds=5697), 5, 2, 10)\n",
      "(2, 6, datetime.timedelta(seconds=7200), 19, 7, 0)\n",
      "(2, 7, datetime.timedelta(seconds=5719), 8, 13, 4)\n",
      "(2, 8, datetime.timedelta(seconds=5723), 9, 12, 2)\n",
      "(2, 9, datetime.timedelta(seconds=7200), 18, 10, 0)\n",
      "(2, 10, datetime.timedelta(seconds=5724), 10, 14, 1)\n",
      "(2, 11, datetime.timedelta(seconds=5707), 6, 9, 8)\n",
      "(2, 12, datetime.timedelta(seconds=5708), 7, 8, 6)\n",
      "(2, 13, datetime.timedelta(seconds=7200), 17, 17, 0)\n",
      "(2, 14, datetime.timedelta(seconds=5662), 12, 15, 0)\n",
      "(2, 15, datetime.timedelta(seconds=5681), 14, 18, 0)\n",
      "(2, 16, datetime.timedelta(seconds=5663), 13, 6, 0)\n",
      "(2, 17, datetime.timedelta(seconds=5725), 11, 16, 0)\n",
      "(2, 18, datetime.timedelta(seconds=7200), 20, 11, 0)\n",
      "(2, 19, datetime.timedelta(seconds=5662), 16, 20, 0)\n",
      "(2, 20, datetime.timedelta(seconds=5721), 15, 19, 0)\n"
     ]
    }
   ],
   "source": [
    "c.execute(\"SELECT * FROM tb_resultado\")\n",
    "\n",
    "for x in c:\n",
    "    print(x)"
   ]
  },
  {
   "cell_type": "code",
   "execution_count": 147,
   "metadata": {},
   "outputs": [],
   "source": [
    "# ANALISE DOS RESULTADOS PEDIDOS"
   ]
  },
  {
   "cell_type": "code",
   "execution_count": 148,
   "metadata": {},
   "outputs": [],
   "source": [
    "# Selecionar pilotos da F1\n",
    "# Criar uma query que selecione apenas pilotos da equipe Ferrari."
   ]
  },
  {
   "cell_type": "code",
   "execution_count": 149,
   "metadata": {},
   "outputs": [
    {
     "name": "stdout",
     "output_type": "stream",
     "text": [
      "(4, 'CHARLES LECLERC', datetime.date(1997, 10, 16), 6, 2)\n",
      "(5, 'SEBASTIAN VETTEL', datetime.date(1987, 7, 3), 11, 2)\n"
     ]
    }
   ],
   "source": [
    "c.execute(\"SELECT * FROM tb_piloto WHERE ID_EQUIPE = 2\")\n",
    "\n",
    "for x in c:\n",
    "    print(x)"
   ]
  },
  {
   "cell_type": "code",
   "execution_count": 150,
   "metadata": {},
   "outputs": [],
   "source": [
    "# Exibir a quantidade de pilotos por ano de nascimento, ordenando-os por este aspecto de forma ascendente\n",
    "# do ano mais antigo ao mais recente."
   ]
  },
  {
   "cell_type": "code",
   "execution_count": 151,
   "metadata": {},
   "outputs": [
    {
     "name": "stdout",
     "output_type": "stream",
     "text": [
      "(12, 'KIMI RAIKKONEN', datetime.date(1979, 10, 17), 22, 8)\n",
      "(19, 'ROBERT KUBICA', datetime.date(1984, 12, 7), 28, 10)\n",
      "(1, 'LEWIS HAMILTON', datetime.date(1985, 2, 15), 10, 1)\n",
      "(18, 'ROMAIN GROSJEAN', datetime.date(1986, 4, 17), 8, 9)\n",
      "(5, 'SEBASTIAN VETTEL', datetime.date(1987, 7, 3), 11, 2)\n",
      "(13, 'NICO HULKENBERG', datetime.date(1987, 8, 19), 11, 5)\n",
      "(9, 'DANIEL RICCIARDO', datetime.date(1989, 7, 1), 1, 5)\n",
      "(2, 'VALTTERI BOTTAS', datetime.date(1989, 8, 28), 22, 1)\n",
      "(10, 'SERGIO PÉREZ', datetime.date(1990, 1, 26), 18, 7)\n",
      "(16, 'KEVIN MAGNUSSEN', datetime.date(1992, 10, 5), 27, 9)\n",
      "(17, 'ANTONIO GIOVINAZZI', datetime.date(1993, 12, 14), 14, 8)\n",
      "(14, 'DANIIL KVYAT', datetime.date(1994, 4, 26), 16, 6)\n",
      "(6, 'CARLOS SAINZ JR.', datetime.date(1994, 9, 21), 5, 4)\n",
      "(7, 'PIERRE GASLY', datetime.date(1996, 2, 7), 8, 3)\n",
      "(8, 'ALEXANDER ALBON', datetime.date(1996, 3, 23), 25, 6)\n",
      "(3, 'MAX VERSTAPPEN', datetime.date(1997, 9, 30), 23, 3)\n",
      "(4, 'CHARLES LECLERC', datetime.date(1997, 10, 16), 6, 2)\n",
      "(20, 'GEORGE RUSSELL', datetime.date(1998, 2, 15), 10, 10)\n",
      "(15, 'LANCE STROLL', datetime.date(1998, 10, 29), 7, 7)\n",
      "(11, 'LANDO NORRIS', datetime.date(1999, 11, 13), 10, 4)\n"
     ]
    }
   ],
   "source": [
    "c.execute(\"SELECT * FROM tb_piloto ORDER BY DT_NASCIMENTO\")\n",
    "\n",
    "for x in c:\n",
    "    print(x)"
   ]
  },
  {
   "cell_type": "code",
   "execution_count": null,
   "metadata": {},
   "outputs": [],
   "source": [
    "# Exibir o nome do piloto, o seu país de nascimento, nome da equipe, país da equipe, colocação final, \n",
    "# nome do circuito e a data da realização da prova na Austrália "
   ]
  },
  {
   "cell_type": "code",
   "execution_count": 173,
   "metadata": {},
   "outputs": [
    {
     "name": "stdout",
     "output_type": "stream",
     "text": [
      "('VALTTERI BOTTAS', 'FINLANDIA', 'MERCEDES', 11, 1, datetime.date(2019, 3, 17), 'MELBOURNE')\n",
      "('LEWIS HAMILTON', 'INGLATERRA', 'MERCEDES', 11, 2, datetime.date(2019, 3, 17), 'MELBOURNE')\n",
      "('MAX VERSTAPPEN', 'HOLANDA', 'RED BULL', 10, 3, datetime.date(2019, 3, 17), 'MELBOURNE')\n",
      "('SEBASTIAN VETTEL', 'ALEMANHA', 'FERRARI', 14, 4, datetime.date(2019, 3, 17), 'MELBOURNE')\n",
      "('CHARLES LECLERC', 'MÔNACO', 'FERRARI', 14, 5, datetime.date(2019, 3, 17), 'MELBOURNE')\n",
      "('KEVIN MAGNUSSEN', 'DINAMARCA', 'HAAS', 19, 6, datetime.date(2019, 3, 17), 'MELBOURNE')\n",
      "('NICO HULKENBERG', 'ALEMANHA', 'RENAULT', 8, 7, datetime.date(2019, 3, 17), 'MELBOURNE')\n",
      "('KIMI RAIKKONEN', 'FINLANDIA', 'ALFA ROMEO', 14, 8, datetime.date(2019, 3, 17), 'MELBOURNE')\n",
      "('LANCE STROLL', 'CANADÁ', 'RACING POINT', 10, 9, datetime.date(2019, 3, 17), 'MELBOURNE')\n",
      "('DANIIL KVYAT', 'RÚSSIA', 'TORO ROSSO', 14, 10, datetime.date(2019, 3, 17), 'MELBOURNE')\n",
      "('PIERRE GASLY', 'FRANÇA', 'RED BULL', 10, 11, datetime.date(2019, 3, 17), 'MELBOURNE')\n",
      "('LANDO NORRIS', 'INGLATERRA', 'McLAREN', 10, 12, datetime.date(2019, 3, 17), 'MELBOURNE')\n",
      "('SERGIO PÉREZ', 'MÉXICO', 'RACING POINT', 10, 13, datetime.date(2019, 3, 17), 'MELBOURNE')\n",
      "('ALEXANDER ALBON', 'TAILANDIA', 'TORO ROSSO', 14, 14, datetime.date(2019, 3, 17), 'MELBOURNE')\n",
      "('ANTONIO GIOVINAZZI', 'ITÁLIA', 'ALFA ROMEO', 14, 15, datetime.date(2019, 3, 17), 'MELBOURNE')\n",
      "('GEORGE RUSSELL', 'INGLATERRA', 'WILLIAMS', 10, 16, datetime.date(2019, 3, 17), 'MELBOURNE')\n",
      "('ROBERT KUBICA', 'POLONIA', 'WILLIAMS', 10, 17, datetime.date(2019, 3, 17), 'MELBOURNE')\n",
      "('ROMAIN GROSJEAN', 'FRANÇA', 'HAAS', 19, 18, datetime.date(2019, 3, 17), 'MELBOURNE')\n",
      "('DANIEL RICCIARDO', 'AUSTRÁLIA', 'RENAULT', 8, 19, datetime.date(2019, 3, 17), 'MELBOURNE')\n",
      "('CARLOS SAINZ JR.', 'ESPANHA', 'McLAREN', 10, 20, datetime.date(2019, 3, 17), 'MELBOURNE')\n"
     ]
    }
   ],
   "source": [
    "c.execute(\"SELECT p.NM_PILOTO, a.NM_PAIS, e.NM_EQUIPE, e.ID_PAIS, r.NR_COLOC_FINAL, pr.DT_PROVA, c.NM_CIRCUITO\"\n",
    "       \"\\n FROM tb_piloto p\"\n",
    "       \"\\n JOIN tb_pais a\"\n",
    "       \"\\n ON p.ID_pais = a.ID_PAIS\"\n",
    "       \"\\n JOIN tb_equipe e\"\n",
    "       \"\\n ON p.ID_EQUIPE = e.ID_EQUIPE\"\n",
    "       \"\\n JOIN tb_resultado r\"\n",
    "       \"\\n ON p.ID_PILOTO = r.ID_PILOTO\"\n",
    "       \"\\n JOIN tb_prova pr\"\n",
    "       \"\\n ON r.ID_PROVA = pr.ID_PROVA\"\n",
    "       \"\\n JOIN tb_circuito c\"\n",
    "       \"\\n ON pr.ID_CIRCUITO = C.ID_CIRCUITO\"  \n",
    "\n",
    "        \"\\n WHERE r.ID_PROVA = 1\"\n",
    "        \"\\n ORDER BY r.NR_COLOC_FINAL\"\n",
    "         )\n",
    "\n",
    "for x in c:\n",
    "    print(x)"
   ]
  }
 ],
 "metadata": {
  "kernelspec": {
   "display_name": "Python 3",
   "language": "python",
   "name": "python3"
  },
  "language_info": {
   "codemirror_mode": {
    "name": "ipython",
    "version": 3
   },
   "file_extension": ".py",
   "mimetype": "text/x-python",
   "name": "python",
   "nbconvert_exporter": "python",
   "pygments_lexer": "ipython3",
   "version": "3.7.4"
  }
 },
 "nbformat": 4,
 "nbformat_minor": 4
}
